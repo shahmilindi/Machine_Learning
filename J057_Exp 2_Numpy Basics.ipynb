{
 "cells": [
  {
   "cell_type": "markdown",
   "id": "2b77c4a2",
   "metadata": {},
   "source": [
    "# Lecture 2 : Numpy Basics"
   ]
  },
  {
   "cell_type": "markdown",
   "id": "2d4c8ba0",
   "metadata": {},
   "source": [
    "# Milindi Shah\n",
    "# J057"
   ]
  },
  {
   "cell_type": "markdown",
   "id": "55688b93",
   "metadata": {},
   "source": [
    "# Q1"
   ]
  },
  {
   "cell_type": "markdown",
   "id": "e2e78976",
   "metadata": {},
   "source": [
    "# Matrix addition and Substraction"
   ]
  },
  {
   "cell_type": "code",
   "execution_count": 5,
   "id": "62d84da1",
   "metadata": {},
   "outputs": [],
   "source": [
    "import numpy as np"
   ]
  },
  {
   "cell_type": "code",
   "execution_count": 6,
   "id": "fe816f49",
   "metadata": {},
   "outputs": [],
   "source": [
    "matrix1 = np.array([[1,3],[2,4]])\n",
    "matrix2 = np.array([[1,2],[3,4]])"
   ]
  },
  {
   "cell_type": "code",
   "execution_count": 7,
   "id": "a2166fdb",
   "metadata": {
    "scrolled": true
   },
   "outputs": [
    {
     "name": "stdout",
     "output_type": "stream",
     "text": [
      "[[2 5]\n",
      " [5 8]]\n"
     ]
    }
   ],
   "source": [
    "print(matrix1+matrix2)"
   ]
  },
  {
   "cell_type": "markdown",
   "id": "ac441888",
   "metadata": {},
   "source": [
    "#  Scalar Addition:"
   ]
  },
  {
   "cell_type": "code",
   "execution_count": 8,
   "id": "626c3a97",
   "metadata": {
    "scrolled": true
   },
   "outputs": [
    {
     "name": "stdout",
     "output_type": "stream",
     "text": [
      "[[2 4]\n",
      " [3 5]]\n"
     ]
    }
   ],
   "source": [
    "print(1+matrix1)"
   ]
  },
  {
   "cell_type": "code",
   "execution_count": 9,
   "id": "092d6185",
   "metadata": {},
   "outputs": [
    {
     "name": "stdout",
     "output_type": "stream",
     "text": [
      "[[ 0  1]\n",
      " [-1  0]]\n"
     ]
    }
   ],
   "source": [
    "print(matrix1-matrix2)"
   ]
  },
  {
   "cell_type": "code",
   "execution_count": 10,
   "id": "f66c9a18",
   "metadata": {},
   "outputs": [],
   "source": [
    "#  Scalar Substraction:"
   ]
  },
  {
   "cell_type": "code",
   "execution_count": 11,
   "id": "d0ef9f2d",
   "metadata": {},
   "outputs": [
    {
     "name": "stdout",
     "output_type": "stream",
     "text": [
      "[[ 0 -2]\n",
      " [-1 -3]]\n"
     ]
    }
   ],
   "source": [
    "print(1-matrix1)"
   ]
  },
  {
   "cell_type": "markdown",
   "id": "666a0e99",
   "metadata": {},
   "source": [
    "# Matrix Vector Multiplication"
   ]
  },
  {
   "cell_type": "code",
   "execution_count": 12,
   "id": "2aac5092",
   "metadata": {},
   "outputs": [
    {
     "name": "stdout",
     "output_type": "stream",
     "text": [
      "[56 34  9]\n"
     ]
    }
   ],
   "source": [
    "vector = np.array([9,1])\n",
    "matrix = np.array([[6,2],[3,7],[1,0]])\n",
    "print(np.dot(matrix,vector))"
   ]
  },
  {
   "cell_type": "code",
   "execution_count": 13,
   "id": "8fdd9092",
   "metadata": {},
   "outputs": [],
   "source": [
    "a = np.random.randint(low=1, high =100, size=(3,3))\n",
    "b = np.random.randint(low=1, high =100, size=(3,3))"
   ]
  },
  {
   "cell_type": "code",
   "execution_count": 14,
   "id": "5650d25b",
   "metadata": {},
   "outputs": [
    {
     "name": "stdout",
     "output_type": "stream",
     "text": [
      "Matrix A\n",
      "[[51 59  2]\n",
      " [61 53 37]\n",
      " [48 11 74]]\n",
      "Matrix B\n",
      "[[53 26 51]\n",
      " [ 7 27 67]\n",
      " [50  7 81]]\n"
     ]
    }
   ],
   "source": [
    "print('Matrix A')\n",
    "print(a)\n",
    "print('Matrix B')\n",
    "print(b)"
   ]
  },
  {
   "cell_type": "markdown",
   "id": "3ded805c",
   "metadata": {},
   "source": [
    "# To verify A+B = B+A"
   ]
  },
  {
   "cell_type": "code",
   "execution_count": 15,
   "id": "a9403e17",
   "metadata": {
    "scrolled": true
   },
   "outputs": [
    {
     "name": "stdout",
     "output_type": "stream",
     "text": [
      "[[104  85  53]\n",
      " [ 68  80 104]\n",
      " [ 98  18 155]]\n"
     ]
    }
   ],
   "source": [
    "print(a+b)"
   ]
  },
  {
   "cell_type": "code",
   "execution_count": 16,
   "id": "5154033b",
   "metadata": {},
   "outputs": [
    {
     "name": "stdout",
     "output_type": "stream",
     "text": [
      "[[104  85  53]\n",
      " [ 68  80 104]\n",
      " [ 98  18 155]]\n"
     ]
    }
   ],
   "source": [
    "print(b+a)"
   ]
  },
  {
   "cell_type": "markdown",
   "id": "4d6f84ef",
   "metadata": {},
   "source": [
    "# To verify A.B = B.A"
   ]
  },
  {
   "cell_type": "code",
   "execution_count": 17,
   "id": "540a822e",
   "metadata": {},
   "outputs": [
    {
     "name": "stdout",
     "output_type": "stream",
     "text": [
      "A.B\n",
      "[[3216 2933 6716]\n",
      " [5454 3276 9659]\n",
      " [6321 2063 9179]]\n",
      "B.A\n",
      "[[6737 5066 4842]\n",
      " [5220 2581 5971]\n",
      " [6865 4212 6353]]\n"
     ]
    }
   ],
   "source": [
    "print('A.B')\n",
    "print(np.dot(a,b))\n",
    "print('B.A')\n",
    "print(np.dot(b,a)) # Not equal"
   ]
  },
  {
   "cell_type": "code",
   "execution_count": 18,
   "id": "79119bc2",
   "metadata": {},
   "outputs": [],
   "source": [
    "#   Therefore, A.B != B.A"
   ]
  },
  {
   "cell_type": "markdown",
   "id": "123037b6",
   "metadata": {},
   "source": [
    "# Associative Property"
   ]
  },
  {
   "cell_type": "code",
   "execution_count": 19,
   "id": "3ae14e89",
   "metadata": {},
   "outputs": [],
   "source": [
    "a = np.random.randint(low=1, high =100, size=(3,3))\n",
    "b = np.random.randint(low=1, high =100, size=(3,3))\n",
    "c = np.random.randint(low=1, high =100, size=(3,3))\n"
   ]
  },
  {
   "cell_type": "code",
   "execution_count": 20,
   "id": "ead67bf3",
   "metadata": {},
   "outputs": [
    {
     "name": "stdout",
     "output_type": "stream",
     "text": [
      "(A.B).C\n",
      "[[ 700186  736724 1468362]\n",
      " [ 455794  447406  928024]\n",
      " [ 326215  314900  658680]]\n",
      "A.(B.C)\n",
      "[[ 700186  736724 1468362]\n",
      " [ 455794  447406  928024]\n",
      " [ 326215  314900  658680]]\n"
     ]
    }
   ],
   "source": [
    "print('(A.B).C')\n",
    "print(np.dot(np.dot(a,b),c))\n",
    "print('A.(B.C)')\n",
    "print(np.dot(a, np.dot(b,c)))"
   ]
  },
  {
   "cell_type": "markdown",
   "id": "68d8712d",
   "metadata": {},
   "source": [
    "# Q3."
   ]
  },
  {
   "cell_type": "markdown",
   "id": "6e463094",
   "metadata": {},
   "source": [
    "# Inverse Matrix\n"
   ]
  },
  {
   "cell_type": "code",
   "execution_count": 21,
   "id": "f51d4688",
   "metadata": {},
   "outputs": [
    {
     "name": "stdout",
     "output_type": "stream",
     "text": [
      "Orignal Matrix\n",
      "[[42 38 38]\n",
      " [ 2  7 24]\n",
      " [23 17 29]]\n",
      "Inverse Matrix\n",
      "[[-0.03841829 -0.08545727  0.12106447]\n",
      " [ 0.09257871  0.06446777 -0.17466267]\n",
      " [-0.0238006   0.02998501  0.04085457]]\n"
     ]
    }
   ],
   "source": [
    "matrix = np.random.randint(low = 1, high =50, size=(3,3) )\n",
    "print('Orignal Matrix')\n",
    "print(matrix)\n",
    "print('Inverse Matrix')\n",
    "print(np.linalg.inv(matrix))"
   ]
  },
  {
   "cell_type": "markdown",
   "id": "14cfdaa4",
   "metadata": {},
   "source": [
    "# Q4. Experimenting with Larger dimentions"
   ]
  },
  {
   "cell_type": "code",
   "execution_count": 22,
   "id": "e6854cf3",
   "metadata": {},
   "outputs": [],
   "source": [
    "mat1 = np.random.randint(low = 1, high =50, size=(1000,1000) )\n",
    "mat2 = np.random.randint(low = 1, high =50, size=(1000,1000) )\n"
   ]
  },
  {
   "cell_type": "code",
   "execution_count": 23,
   "id": "f7f76c1c",
   "metadata": {},
   "outputs": [
    {
     "name": "stdout",
     "output_type": "stream",
     "text": [
      "Matrix 1\n",
      "[[44 40 35 ...  7 47  9]\n",
      " [35 45 28 ... 46 12 40]\n",
      " [12  7 36 ... 20 13 23]\n",
      " ...\n",
      " [ 1 16 39 ... 37 48 37]\n",
      " [11  6 19 ...  6 47 10]\n",
      " [37 36 36 ... 31 16 37]]\n",
      "Matrix 2\n",
      "[[42 31 42 ... 21 46 31]\n",
      " [11 29 23 ... 21  9 32]\n",
      " [43 35 30 ... 17 36  1]\n",
      " ...\n",
      " [38 13 37 ... 27 13 46]\n",
      " [ 9 33 25 ...  9 14 36]\n",
      " [21 11 13 ... 12 21 36]]\n"
     ]
    }
   ],
   "source": [
    "print('Matrix 1')\n",
    "print(mat1)\n",
    "print('Matrix 2')\n",
    "print(mat2)"
   ]
  },
  {
   "cell_type": "code",
   "execution_count": 24,
   "id": "9e564221",
   "metadata": {},
   "outputs": [],
   "source": [
    "m = mat1.shape[0]\n",
    "p = mat2.shape[0]"
   ]
  },
  {
   "cell_type": "code",
   "execution_count": 25,
   "id": "2612bba8",
   "metadata": {},
   "outputs": [],
   "source": [
    "assert mat1.shape == mat2.shape"
   ]
  },
  {
   "cell_type": "code",
   "execution_count": 26,
   "id": "90053ed0",
   "metadata": {},
   "outputs": [],
   "source": [
    "import time "
   ]
  },
  {
   "cell_type": "code",
   "execution_count": 27,
   "id": "7ec8e032",
   "metadata": {},
   "outputs": [
    {
     "name": "stdout",
     "output_type": "stream",
     "text": [
      "1.2021324634552002\n"
     ]
    }
   ],
   "source": [
    "r,c = mat1.shape\n",
    "final = []\n",
    "start = time.time()\n",
    "for i in range(r):\n",
    "    \n",
    "    for j in range(c):\n",
    "        row = mat1[i,j]+mat2[i,j]\n",
    "    final.append(row)\n",
    "    \n",
    "print(time.time()-start)"
   ]
  },
  {
   "cell_type": "markdown",
   "id": "ed611914",
   "metadata": {},
   "source": [
    "## Through Numpy:"
   ]
  },
  {
   "cell_type": "code",
   "execution_count": 28,
   "id": "2ea9e94b",
   "metadata": {},
   "outputs": [
    {
     "name": "stdout",
     "output_type": "stream",
     "text": [
      "0.002986907958984375\n"
     ]
    }
   ],
   "source": [
    "start = time.time()\n",
    "np_ans = mat1+mat2\n",
    "print(time.time()-start)"
   ]
  },
  {
   "cell_type": "code",
   "execution_count": 29,
   "id": "0e2b8df2",
   "metadata": {},
   "outputs": [],
   "source": [
    "# Therefore, numpy Addition is a lot faster"
   ]
  },
  {
   "cell_type": "markdown",
   "id": "0152bcc1",
   "metadata": {},
   "source": [
    "# Matrix Multiplication"
   ]
  },
  {
   "cell_type": "code",
   "execution_count": 30,
   "id": "e06615dc",
   "metadata": {},
   "outputs": [],
   "source": [
    "assert mat1.shape[0] == mat2.shape[1]"
   ]
  },
  {
   "cell_type": "code",
   "execution_count": 37,
   "id": "ab64f986",
   "metadata": {},
   "outputs": [],
   "source": [
    "start = time.time()\n",
    "m = mat1.shape[0]\n",
    "p = mat2.shape[1]\n",
    "n = mat2.shape[0]"
   ]
  },
  {
   "cell_type": "code",
   "execution_count": 38,
   "id": "226968d3",
   "metadata": {},
   "outputs": [],
   "source": [
    "answer = np.zeros((m,p))"
   ]
  },
  {
   "cell_type": "code",
   "execution_count": 39,
   "id": "a79c678b",
   "metadata": {},
   "outputs": [],
   "source": [
    "mat1 = np.random.randint(low = 1, high =50, size=(100,100) )\n",
    "mat2 = np.random.randint(low = 1, high =50, size=(100,100) )\n"
   ]
  },
  {
   "cell_type": "code",
   "execution_count": 40,
   "id": "c1ed15aa",
   "metadata": {},
   "outputs": [
    {
     "name": "stdout",
     "output_type": "stream",
     "text": [
      "3.255744218826294\n"
     ]
    }
   ],
   "source": [
    "m = mat1.shape[0]\n",
    "n = mat2.shape[0]\n",
    "c =mat2.shape[1]\n",
    "for i in range(m):\n",
    "    for j in range(c):\n",
    "        for k in range(n):\n",
    "            answer[i,j] += mat1[i,k] * mat2[k,j]\n",
    "print(time.time()-start)           "
   ]
  },
  {
   "cell_type": "markdown",
   "id": "e63d739b",
   "metadata": {},
   "source": [
    "# Through Numpy:"
   ]
  },
  {
   "cell_type": "code",
   "execution_count": 41,
   "id": "79f38b58",
   "metadata": {},
   "outputs": [
    {
     "name": "stdout",
     "output_type": "stream",
     "text": [
      "0.0\n"
     ]
    }
   ],
   "source": [
    "start = time.time()\n",
    "np_dotProduct_result = np.dot(mat1, mat2)\n",
    "print(time.time()-start)"
   ]
  },
  {
   "cell_type": "code",
   "execution_count": 43,
   "id": "59bb407c",
   "metadata": {},
   "outputs": [],
   "source": [
    "# Therefore, numpy Addition is a lot faster"
   ]
  },
  {
   "cell_type": "code",
   "execution_count": null,
   "id": "b9cafdae",
   "metadata": {},
   "outputs": [],
   "source": []
  },
  {
   "cell_type": "code",
   "execution_count": null,
   "id": "1fb01129",
   "metadata": {},
   "outputs": [],
   "source": []
  },
  {
   "cell_type": "code",
   "execution_count": null,
   "id": "275efb2a",
   "metadata": {},
   "outputs": [],
   "source": []
  },
  {
   "cell_type": "code",
   "execution_count": null,
   "id": "9f2da0a7",
   "metadata": {},
   "outputs": [],
   "source": []
  },
  {
   "cell_type": "code",
   "execution_count": null,
   "id": "ca7fa09f",
   "metadata": {},
   "outputs": [],
   "source": []
  },
  {
   "cell_type": "code",
   "execution_count": null,
   "id": "2ba461d9",
   "metadata": {},
   "outputs": [],
   "source": []
  },
  {
   "cell_type": "code",
   "execution_count": null,
   "id": "f663e791",
   "metadata": {},
   "outputs": [],
   "source": []
  },
  {
   "cell_type": "code",
   "execution_count": null,
   "id": "510795a7",
   "metadata": {},
   "outputs": [],
   "source": []
  }
 ],
 "metadata": {
  "kernelspec": {
   "display_name": "Python 3",
   "language": "python",
   "name": "python3"
  },
  "language_info": {
   "codemirror_mode": {
    "name": "ipython",
    "version": 3
   },
   "file_extension": ".py",
   "mimetype": "text/x-python",
   "name": "python",
   "nbconvert_exporter": "python",
   "pygments_lexer": "ipython3",
   "version": "3.8.8"
  }
 },
 "nbformat": 4,
 "nbformat_minor": 5
}
