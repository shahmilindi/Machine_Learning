{
 "cells": [
  {
   "cell_type": "markdown",
   "id": "901f7933",
   "metadata": {},
   "source": [
    "numpy is faster than lists as its based on c\n",
    "\n",
    "\n",
    "!pip install numpy"
   ]
  },
  {
   "cell_type": "code",
   "execution_count": 1,
   "id": "f4e1364f",
   "metadata": {},
   "outputs": [],
   "source": [
    "import numpy as np"
   ]
  },
  {
   "cell_type": "code",
   "execution_count": 2,
   "id": "f045f75a",
   "metadata": {},
   "outputs": [
    {
     "data": {
      "text/plain": [
       "array([1, 2, 3])"
      ]
     },
     "execution_count": 2,
     "metadata": {},
     "output_type": "execute_result"
    }
   ],
   "source": [
    "#how do lists n numpy arrays differ?\n",
    "\n",
    "#numpy can hae only 1 type of data while lists don't\n",
    "\n",
    "\n",
    "l = [1,2,3]\n",
    "np.array(l)"
   ]
  },
  {
   "cell_type": "code",
   "execution_count": 3,
   "id": "d6a24fb9",
   "metadata": {},
   "outputs": [
    {
     "data": {
      "text/plain": [
       "array(['s', '2', '3'], dtype='<U1')"
      ]
     },
     "execution_count": 3,
     "metadata": {},
     "output_type": "execute_result"
    }
   ],
   "source": [
    "l2 = ['s',2,3]\n",
    "np.array(l2)\n",
    "\n",
    "#typecast(?) all to string                 if u want find out wut n how"
   ]
  },
  {
   "cell_type": "code",
   "execution_count": 4,
   "id": "3bdde35b",
   "metadata": {},
   "outputs": [
    {
     "data": {
      "text/plain": [
       "array([[1, 2, 3],\n",
       "       [4, 5, 6]])"
      ]
     },
     "execution_count": 4,
     "metadata": {},
     "output_type": "execute_result"
    }
   ],
   "source": [
    "md_arr = np.array([[1,2,3],[4,5,6]])\n",
    "md_arr"
   ]
  },
  {
   "cell_type": "code",
   "execution_count": 5,
   "id": "d320378c",
   "metadata": {},
   "outputs": [
    {
     "name": "stderr",
     "output_type": "stream",
     "text": [
      "<ipython-input-5-c6c36079336b>:1: VisibleDeprecationWarning: Creating an ndarray from ragged nested sequences (which is a list-or-tuple of lists-or-tuples-or ndarrays with different lengths or shapes) is deprecated. If you meant to do this, you must specify 'dtype=object' when creating the ndarray\n",
      "  md_arr2 = np.array([[1,2,3],[4,5,6,7]])\n"
     ]
    },
    {
     "data": {
      "text/plain": [
       "array([list([1, 2, 3]), list([4, 5, 6, 7])], dtype=object)"
      ]
     },
     "execution_count": 5,
     "metadata": {},
     "output_type": "execute_result"
    }
   ],
   "source": [
    "md_arr2 = np.array([[1,2,3],[4,5,6,7]])\n",
    "md_arr2\n",
    "\n",
    "#will be ragged"
   ]
  },
  {
   "cell_type": "code",
   "execution_count": 6,
   "id": "3cb4395d",
   "metadata": {},
   "outputs": [
    {
     "data": {
      "text/plain": [
       "array([[ 0,  1,  2,  3,  4],\n",
       "       [ 2,  3,  4,  5,  6],\n",
       "       [ 4,  5,  6,  7,  8],\n",
       "       [ 6,  7,  8,  9, 10]])"
      ]
     },
     "execution_count": 6,
     "metadata": {},
     "output_type": "execute_result"
    }
   ],
   "source": [
    "#how does list comprehension work\n",
    "md_arr3 = np.array([[2*i +j for j in range(5)] for i in range (4)])\n",
    "md_arr3"
   ]
  },
  {
   "cell_type": "code",
   "execution_count": 7,
   "id": "fad80974",
   "metadata": {},
   "outputs": [
    {
     "data": {
      "text/plain": [
       "(array([[0., 0., 0., 0.],\n",
       "        [0., 0., 0., 0.],\n",
       "        [0., 0., 0., 0.]]),\n",
       " array([ 5,  9, 13, 17]),\n",
       " array([0.  , 0.25, 0.5 , 0.75, 1.  , 1.25, 1.5 , 1.75, 2.  ]),\n",
       " array([[7, 7],\n",
       "        [7, 7]]),\n",
       " array([[1., 0., 0.],\n",
       "        [0., 1., 0.],\n",
       "        [0., 0., 1.]]),\n",
       " array([[0.77079547, 0.5635798 ],\n",
       "        [0.75019817, 0.21433335]]),\n",
       " array([[0.00000000e+000, 0.00000000e+000, 0.00000000e+000,\n",
       "         0.00000000e+000],\n",
       "        [0.00000000e+000, 6.28451502e-321, 1.05699242e-307,\n",
       "         8.01097888e-307]]))"
      ]
     },
     "execution_count": 7,
     "metadata": {},
     "output_type": "execute_result"
    }
   ],
   "source": [
    "np.zeros((3,4)), np.arange(5,20,4) , np.linspace(0,2,9) , np.full((2,2),7) , np.eye(3),  np.random.random((2,2)),  np.empty((2,4))"
   ]
  },
  {
   "cell_type": "code",
   "execution_count": 8,
   "id": "048e9c78",
   "metadata": {},
   "outputs": [
    {
     "data": {
      "text/plain": [
       "array([[ 0,  1,  2,  3,  4],\n",
       "       [ 2,  3,  4,  5,  6],\n",
       "       [ 4,  5,  6,  7,  8],\n",
       "       [ 6,  7,  8,  9, 10]])"
      ]
     },
     "execution_count": 8,
     "metadata": {},
     "output_type": "execute_result"
    }
   ],
   "source": [
    "md_arr3"
   ]
  },
  {
   "cell_type": "code",
   "execution_count": 9,
   "id": "efc649a7",
   "metadata": {},
   "outputs": [
    {
     "data": {
      "text/plain": [
       "array([[5],\n",
       "       [7]])"
      ]
     },
     "execution_count": 9,
     "metadata": {},
     "output_type": "execute_result"
    }
   ],
   "source": [
    "md_arr3[1:3,3:4]"
   ]
  },
  {
   "cell_type": "code",
   "execution_count": 10,
   "id": "7a91bcca",
   "metadata": {},
   "outputs": [
    {
     "data": {
      "text/plain": [
       "((4, 5),\n",
       " 4,\n",
       " 2,\n",
       " dtype('int32'),\n",
       " array([[ 0.,  1.,  2.,  3.,  4.],\n",
       "        [ 2.,  3.,  4.,  5.,  6.],\n",
       "        [ 4.,  5.,  6.,  7.,  8.],\n",
       "        [ 6.,  7.,  8.,  9., 10.]]),\n",
       " 20)"
      ]
     },
     "execution_count": 10,
     "metadata": {},
     "output_type": "execute_result"
    }
   ],
   "source": [
    "md_arr3.shape   , len(md_arr3)  , md_arr3.ndim,md_arr3.dtype, md_arr3.astype('float'), md_arr3.size"
   ]
  },
  {
   "cell_type": "code",
   "execution_count": 11,
   "id": "817e010e",
   "metadata": {},
   "outputs": [],
   "source": [
    "a1 = np.array([1,2]) \n",
    "a2 = np.array([3,4])"
   ]
  },
  {
   "cell_type": "code",
   "execution_count": 12,
   "id": "65ca4533",
   "metadata": {},
   "outputs": [
    {
     "data": {
      "text/plain": [
       "(array([4, 6]), array([8, 9]), array([3, 8]), 11)"
      ]
     },
     "execution_count": 12,
     "metadata": {},
     "output_type": "execute_result"
    }
   ],
   "source": [
    "a1 + a2, a1+7, a1*a2, np.dot(a1,a2)"
   ]
  },
  {
   "cell_type": "markdown",
   "id": "a1f23f30",
   "metadata": {},
   "source": [
    "#### the one bellow was randomly done by me chk this"
   ]
  },
  {
   "cell_type": "code",
   "execution_count": 13,
   "id": "5bfc5f62",
   "metadata": {},
   "outputs": [
    {
     "data": {
      "text/plain": [
       "array([0.33333333, 0.5       ])"
      ]
     },
     "execution_count": 13,
     "metadata": {},
     "output_type": "execute_result"
    }
   ],
   "source": [
    "a1/a2"
   ]
  },
  {
   "cell_type": "markdown",
   "id": "e7e7f3d5",
   "metadata": {},
   "source": []
  },
  {
   "cell_type": "markdown",
   "id": "372cda41",
   "metadata": {},
   "source": []
  },
  {
   "cell_type": "markdown",
   "id": "dbf0b821",
   "metadata": {},
   "source": []
  },
  {
   "cell_type": "markdown",
   "id": "31389815",
   "metadata": {},
   "source": []
  },
  {
   "cell_type": "code",
   "execution_count": 14,
   "id": "c3231bbc",
   "metadata": {},
   "outputs": [],
   "source": [
    "import matplotlib.pyplot as plt"
   ]
  },
  {
   "cell_type": "code",
   "execution_count": 22,
   "id": "84b18ab5",
   "metadata": {},
   "outputs": [
    {
     "data": {
      "text/plain": [
       "[<matplotlib.lines.Line2D at 0x2b4dcf407c0>]"
      ]
     },
     "execution_count": 22,
     "metadata": {},
     "output_type": "execute_result"
    },
    {
     "data": {
      "image/png": "[encoded data removed]",
      "text/plain": [
       "<Figure size 432x288 with 1 Axes>"
      ]
     },
     "metadata": {
      "needs_background": "light"
     },
     "output_type": "display_data"
    }
   ],
   "source": [
    "x = np.linspace(0, np.e**4, 50)\n",
    "y = np.cos(x)\n",
    "plt.plot(x,y)"
   ]
  },
  {
   "cell_type": "code",
   "execution_count": 16,
   "id": "8792a6c5",
   "metadata": {},
   "outputs": [
    {
     "data": {
      "text/plain": [
       "array([[ 0],\n",
       "       [ 1],\n",
       "       [ 2],\n",
       "       [ 3],\n",
       "       [ 4],\n",
       "       [ 2],\n",
       "       [ 3],\n",
       "       [ 4],\n",
       "       [ 5],\n",
       "       [ 6],\n",
       "       [ 4],\n",
       "       [ 5],\n",
       "       [ 6],\n",
       "       [ 7],\n",
       "       [ 8],\n",
       "       [ 6],\n",
       "       [ 7],\n",
       "       [ 8],\n",
       "       [ 9],\n",
       "       [10]])"
      ]
     },
     "execution_count": 16,
     "metadata": {},
     "output_type": "execute_result"
    }
   ],
   "source": [
    "md_arr3.resize(20,1)\n",
    "md_arr3"
   ]
  },
  {
   "cell_type": "code",
   "execution_count": 17,
   "id": "444f53cb",
   "metadata": {},
   "outputs": [
    {
     "data": {
      "text/plain": [
       "array([[ 0,  1,  2,  3],\n",
       "       [ 4,  2,  3,  4],\n",
       "       [ 5,  6,  4,  5],\n",
       "       [ 6,  7,  8,  6],\n",
       "       [ 7,  8,  9, 10]])"
      ]
     },
     "execution_count": 17,
     "metadata": {},
     "output_type": "execute_result"
    }
   ],
   "source": [
    "md_arr3.resize(5,4)\n",
    "md_arr3"
   ]
  },
  {
   "cell_type": "code",
   "execution_count": 18,
   "id": "50369337",
   "metadata": {},
   "outputs": [
    {
     "data": {
      "text/plain": [
       "(array([[ 0],\n",
       "        [ 1],\n",
       "        [ 2],\n",
       "        [ 3],\n",
       "        [ 4],\n",
       "        [ 2],\n",
       "        [ 3],\n",
       "        [ 4],\n",
       "        [ 5],\n",
       "        [ 6],\n",
       "        [ 4],\n",
       "        [ 5],\n",
       "        [ 6],\n",
       "        [ 7],\n",
       "        [ 8],\n",
       "        [ 6],\n",
       "        [ 7],\n",
       "        [ 8],\n",
       "        [ 9],\n",
       "        [10]]),\n",
       " array([[ 0,  1,  2,  3],\n",
       "        [ 4,  2,  3,  4],\n",
       "        [ 5,  6,  4,  5],\n",
       "        [ 6,  7,  8,  6],\n",
       "        [ 7,  8,  9, 10]]))"
      ]
     },
     "execution_count": 18,
     "metadata": {},
     "output_type": "execute_result"
    }
   ],
   "source": [
    "md_arr3.reshape(20,1) , md_arr3"
   ]
  },
  {
   "cell_type": "code",
   "execution_count": 19,
   "id": "8d086039",
   "metadata": {},
   "outputs": [
    {
     "data": {
      "text/plain": [
       "array([ 7,  8,  9, 10])"
      ]
     },
     "execution_count": 19,
     "metadata": {},
     "output_type": "execute_result"
    }
   ],
   "source": [
    "md_arr3.max(axis = 0)"
   ]
  },
  {
   "cell_type": "code",
   "execution_count": 20,
   "id": "0729cc3a",
   "metadata": {},
   "outputs": [
    {
     "data": {
      "text/plain": [
       "array([ 3,  4,  6,  8, 10])"
      ]
     },
     "execution_count": 20,
     "metadata": {},
     "output_type": "execute_result"
    }
   ],
   "source": [
    "md_arr3.max(axis = 1)"
   ]
  },
  {
   "cell_type": "code",
   "execution_count": 23,
   "id": "fb2b9d5d",
   "metadata": {},
   "outputs": [
    {
     "ename": "NameError",
     "evalue": "name 'numpy' is not defined",
     "output_type": "error",
     "traceback": [
      "\u001b[1;31m---------------------------------------------------------------------------\u001b[0m",
      "\u001b[1;31mNameError\u001b[0m                                 Traceback (most recent call last)",
      "\u001b[1;32m<ipython-input-23-4c604f16a3ed>\u001b[0m in \u001b[0;36m<module>\u001b[1;34m\u001b[0m\n\u001b[1;32m----> 1\u001b[1;33m \u001b[0mnumpy\u001b[0m\u001b[1;33m.\u001b[0m\u001b[0morg\u001b[0m\u001b[1;33m\u001b[0m\u001b[1;33m\u001b[0m\u001b[0m\n\u001b[0m",
      "\u001b[1;31mNameError\u001b[0m: name 'numpy' is not defined"
     ]
    }
   ],
   "source": [
    "numpy.org"
   ]
  },
  {
   "cell_type": "code",
   "execution_count": 54,
   "id": "2170aac0",
   "metadata": {},
   "outputs": [],
   "source": [
    "# Q1"
   ]
  },
  {
   "cell_type": "markdown",
   "id": "e2e78976",
   "metadata": {},
   "source": [
    "# Matrix addition and Substraction"
   ]
  },
  {
   "cell_type": "code",
   "execution_count": 24,
   "id": "fe816f49",
   "metadata": {},
   "outputs": [],
   "source": [
    "matrix1 = np.array([[1,3],[2,4]])\n",
    "matrix2 = np.array([[1,2],[3,4]])"
   ]
  },
  {
   "cell_type": "code",
   "execution_count": 26,
   "id": "a2166fdb",
   "metadata": {
    "scrolled": true
   },
   "outputs": [
    {
     "name": "stdout",
     "output_type": "stream",
     "text": [
      "[[2 5]\n",
      " [5 8]]\n"
     ]
    }
   ],
   "source": [
    "print(matrix1+matrix2)"
   ]
  },
  {
   "cell_type": "code",
   "execution_count": 30,
   "id": "b0647376",
   "metadata": {},
   "outputs": [],
   "source": [
    "#  Scalar Addition:"
   ]
  },
  {
   "cell_type": "code",
   "execution_count": 31,
   "id": "626c3a97",
   "metadata": {
    "scrolled": true
   },
   "outputs": [
    {
     "name": "stdout",
     "output_type": "stream",
     "text": [
      "[[2 4]\n",
      " [3 5]]\n"
     ]
    }
   ],
   "source": [
    "print(1+matrix1)"
   ]
  },
  {
   "cell_type": "code",
   "execution_count": 27,
   "id": "092d6185",
   "metadata": {},
   "outputs": [
    {
     "name": "stdout",
     "output_type": "stream",
     "text": [
      "[[ 0  1]\n",
      " [-1  0]]\n"
     ]
    }
   ],
   "source": [
    "print(matrix1-matrix2)"
   ]
  },
  {
   "cell_type": "code",
   "execution_count": 33,
   "id": "f66c9a18",
   "metadata": {},
   "outputs": [],
   "source": [
    "#  Scalar Substraction:"
   ]
  },
  {
   "cell_type": "code",
   "execution_count": 34,
   "id": "d0ef9f2d",
   "metadata": {},
   "outputs": [
    {
     "name": "stdout",
     "output_type": "stream",
     "text": [
      "[[ 0 -2]\n",
      " [-1 -3]]\n"
     ]
    }
   ],
   "source": [
    "print(1-matrix1)"
   ]
  },
  {
   "cell_type": "markdown",
   "id": "666a0e99",
   "metadata": {},
   "source": [
    "# Matrix Vector Multiplication"
   ]
  },
  {
   "cell_type": "code",
   "execution_count": 36,
   "id": "2aac5092",
   "metadata": {},
   "outputs": [
    {
     "name": "stdout",
     "output_type": "stream",
     "text": [
      "[56 34  9]\n"
     ]
    }
   ],
   "source": [
    "vector = np.array([9,1])\n",
    "matrix = np.array([[6,2],[3,7],[1,0]])\n",
    "print(np.dot(matrix,vector))"
   ]
  },
  {
   "cell_type": "code",
   "execution_count": 41,
   "id": "8fdd9092",
   "metadata": {},
   "outputs": [],
   "source": [
    "a = np.random.randint(low=1, high =100, size=(3,3))\n",
    "b = np.random.randint(low=1, high =100, size=(3,3))"
   ]
  },
  {
   "cell_type": "code",
   "execution_count": 47,
   "id": "5650d25b",
   "metadata": {},
   "outputs": [
    {
     "name": "stdout",
     "output_type": "stream",
     "text": [
      "Matrix A\n",
      "[[27  5 56]\n",
      " [85 91 94]\n",
      " [68  4 64]]\n",
      "Matrix B\n",
      "[[13 58 69]\n",
      " [46 24 78]\n",
      " [10  3 42]]\n"
     ]
    }
   ],
   "source": [
    "print('Matrix A')\n",
    "print(a)\n",
    "print('Matrix B')\n",
    "print(b)"
   ]
  },
  {
   "cell_type": "markdown",
   "id": "3ded805c",
   "metadata": {},
   "source": [
    "# To verify A+B = B+A"
   ]
  },
  {
   "cell_type": "code",
   "execution_count": 55,
   "id": "a9403e17",
   "metadata": {
    "scrolled": true
   },
   "outputs": [
    {
     "name": "stdout",
     "output_type": "stream",
     "text": [
      "[[ 40  63 125]\n",
      " [131 115 172]\n",
      " [ 78   7 106]]\n"
     ]
    }
   ],
   "source": [
    "print(a+b)"
   ]
  },
  {
   "cell_type": "code",
   "execution_count": 56,
   "id": "5154033b",
   "metadata": {},
   "outputs": [
    {
     "name": "stdout",
     "output_type": "stream",
     "text": [
      "[[ 40  63 125]\n",
      " [131 115 172]\n",
      " [ 78   7 106]]\n"
     ]
    }
   ],
   "source": [
    "print(b+a)"
   ]
  },
  {
   "cell_type": "markdown",
   "id": "4d6f84ef",
   "metadata": {},
   "source": [
    "# To verify A.B = B.A"
   ]
  },
  {
   "cell_type": "code",
   "execution_count": 51,
   "id": "540a822e",
   "metadata": {},
   "outputs": [
    {
     "name": "stdout",
     "output_type": "stream",
     "text": [
      "A.B\n",
      "[[ 1141  1854  4605]\n",
      " [ 6231  7396 16911]\n",
      " [ 1708  4232  7692]]\n",
      "B.A\n",
      "[[ 9973  5619 10596]\n",
      " [ 8586  2726  9824]\n",
      " [ 3381   491  3530]]\n"
     ]
    }
   ],
   "source": [
    "print('A.B')\n",
    "print(np.dot(a,b))\n",
    "print('B.A')\n",
    "print(np.dot(b,a)) # Not equal"
   ]
  },
  {
   "cell_type": "code",
   "execution_count": 52,
   "id": "79119bc2",
   "metadata": {},
   "outputs": [],
   "source": [
    "#   Therefore, A.B != B.A"
   ]
  },
  {
   "cell_type": "markdown",
   "id": "123037b6",
   "metadata": {},
   "source": [
    "# Associative Property"
   ]
  },
  {
   "cell_type": "code",
   "execution_count": 58,
   "id": "3ae14e89",
   "metadata": {},
   "outputs": [],
   "source": [
    "a = np.random.randint(low=1, high =100, size=(3,3))\n",
    "b = np.random.randint(low=1, high =100, size=(3,3))\n",
    "c = np.random.randint(low=1, high =100, size=(3,3))\n"
   ]
  },
  {
   "cell_type": "code",
   "execution_count": 66,
   "id": "ead67bf3",
   "metadata": {},
   "outputs": [
    {
     "name": "stdout",
     "output_type": "stream",
     "text": [
      "(A.B).C\n",
      "[[1884549 2042902 2125523]\n",
      " [1127751 1179662 1252084]\n",
      " [1270140 1435632 1406166]]\n",
      "A.(B.C)\n",
      "[[1884549 2042902 2125523]\n",
      " [1127751 1179662 1252084]\n",
      " [1270140 1435632 1406166]]\n"
     ]
    }
   ],
   "source": [
    "print('(A.B).C')\n",
    "print(np.dot(np.dot(a,b),c))\n",
    "print('A.(B.C)')\n",
    "print(np.dot(a, np.dot(b,c)))"
   ]
  },
  {
   "cell_type": "markdown",
   "id": "68d8712d",
   "metadata": {},
   "source": [
    "# Q3."
   ]
  },
  {
   "cell_type": "markdown",
   "id": "6e463094",
   "metadata": {},
   "source": [
    "# Inverse Matrix\n"
   ]
  },
  {
   "cell_type": "code",
   "execution_count": 53,
   "id": "f51d4688",
   "metadata": {},
   "outputs": [
    {
     "name": "stdout",
     "output_type": "stream",
     "text": [
      "Orignal Matrix\n",
      "[[38 30 45]\n",
      " [45 46 15]\n",
      " [ 8 11 13]]\n",
      "Inverse Matrix\n",
      "[[ 0.05268281  0.01277528 -0.19710427]\n",
      " [-0.05657623  0.01630369  0.17702884]\n",
      " [ 0.015452   -0.02165714  0.04842438]]\n"
     ]
    }
   ],
   "source": [
    "matrix = np.random.randint(low = 1, high =50, size=(3,3) )\n",
    "print('Orignal Matrix')\n",
    "print(matrix)\n",
    "print('Inverse Matrix')\n",
    "print(np.linalg.inv(matrix))"
   ]
  },
  {
   "cell_type": "markdown",
   "id": "14cfdaa4",
   "metadata": {},
   "source": [
    "# Q4. Experimenting with Larger dimentions"
   ]
  },
  {
   "cell_type": "code",
   "execution_count": 90,
   "id": "e6854cf3",
   "metadata": {},
   "outputs": [],
   "source": [
    "mat1 = np.random.randint(low = 1, high =50, size=(10000,10000) )\n",
    "mat2 = np.random.randint(low = 1, high =50, size=(10000,10000) )\n"
   ]
  },
  {
   "cell_type": "code",
   "execution_count": 91,
   "id": "f7f76c1c",
   "metadata": {},
   "outputs": [
    {
     "name": "stdout",
     "output_type": "stream",
     "text": [
      "Matrix 1\n",
      "[[13 17  9 ... 48 37 12]\n",
      " [41 27 28 ... 11 11  7]\n",
      " [23 29 35 ... 36 13 14]\n",
      " ...\n",
      " [ 4 30 39 ... 42 32 22]\n",
      " [43 35 44 ... 37 23 19]\n",
      " [35 10 35 ... 29 11 33]]\n",
      "Matrix 2\n",
      "[[45 23  1 ... 24 42 30]\n",
      " [20 17 39 ... 11 30 20]\n",
      " [ 7 44 47 ... 19 30 36]\n",
      " ...\n",
      " [44 39 20 ... 29 28 42]\n",
      " [19 17 20 ... 17 19  5]\n",
      " [23 17  3 ... 36 40  2]]\n"
     ]
    }
   ],
   "source": [
    "print('Matrix 1')\n",
    "print(mat1)\n",
    "print('Matrix 2')\n",
    "print(mat2)"
   ]
  },
  {
   "cell_type": "code",
   "execution_count": 92,
   "id": "9e564221",
   "metadata": {},
   "outputs": [],
   "source": [
    "m = mat1.shape[0]\n",
    "p = mat2.shape[0]"
   ]
  },
  {
   "cell_type": "code",
   "execution_count": 93,
   "id": "2612bba8",
   "metadata": {},
   "outputs": [],
   "source": [
    "assert mat1.shape == mat2.shape"
   ]
  },
  {
   "cell_type": "code",
   "execution_count": 94,
   "id": "90053ed0",
   "metadata": {},
   "outputs": [],
   "source": [
    "import time "
   ]
  },
  {
   "cell_type": "code",
   "execution_count": 95,
   "id": "7ec8e032",
   "metadata": {},
   "outputs": [
    {
     "name": "stdout",
     "output_type": "stream",
     "text": [
      "124.77035975456238\n"
     ]
    }
   ],
   "source": [
    "r,c = mat1.shape\n",
    "final = []\n",
    "start = time.time()\n",
    "for i in range(r):\n",
    "    \n",
    "    for j in range(c):\n",
    "        row = mat1[i,j]+mat2[i,j]\n",
    "    final.append(row)\n",
    "    \n",
    "print(time.time()-start)"
   ]
  },
  {
   "cell_type": "markdown",
   "id": "ed611914",
   "metadata": {},
   "source": [
    "## Through Numpy:"
   ]
  },
  {
   "cell_type": "code",
   "execution_count": 96,
   "id": "2ea9e94b",
   "metadata": {},
   "outputs": [
    {
     "name": "stdout",
     "output_type": "stream",
     "text": [
      "0.3048889636993408\n"
     ]
    }
   ],
   "source": [
    "start = time.time()\n",
    "np_ans = mat1+mat2\n",
    "print(time.time()-start)"
   ]
  },
  {
   "cell_type": "code",
   "execution_count": 97,
   "id": "0e2b8df2",
   "metadata": {},
   "outputs": [],
   "source": [
    "# Therefore, numpy Addition is a lot faster"
   ]
  },
  {
   "cell_type": "markdown",
   "id": "0152bcc1",
   "metadata": {},
   "source": [
    "# Matrix Multiplication"
   ]
  },
  {
   "cell_type": "code",
   "execution_count": 108,
   "id": "e06615dc",
   "metadata": {},
   "outputs": [],
   "source": [
    "assert mat1.shape[0] == mat2.shape[1]"
   ]
  },
  {
   "cell_type": "code",
   "execution_count": 109,
   "id": "ab64f986",
   "metadata": {},
   "outputs": [],
   "source": [
    "start = time.time()\n",
    "m = mat1.shape[0]\n",
    "p = mat2.shape[1]\n",
    "n = mat2.shape[0]"
   ]
  },
  {
   "cell_type": "code",
   "execution_count": 110,
   "id": "226968d3",
   "metadata": {},
   "outputs": [],
   "source": [
    "answer = np.zeros((m,p))"
   ]
  },
  {
   "cell_type": "code",
   "execution_count": 111,
   "id": "a79c678b",
   "metadata": {},
   "outputs": [],
   "source": [
    "mat1 = np.random.randint(low = 1, high =50, size=(100,100) )\n",
    "mat2 = np.random.randint(low = 1, high =50, size=(100,100) )\n"
   ]
  },
  {
   "cell_type": "code",
   "execution_count": 112,
   "id": "c1ed15aa",
   "metadata": {},
   "outputs": [
    {
     "name": "stdout",
     "output_type": "stream",
     "text": [
      "4.993820428848267\n"
     ]
    }
   ],
   "source": [
    "m = mat1.shape[0]\n",
    "n = mat2.shape[0]\n",
    "c =mat2.shape[1]\n",
    "for i in range(m):\n",
    "    for j in range(c):\n",
    "        for k in range(n):\n",
    "            answer[i,j] += mat1[i,k] * mat2[k,j]\n",
    "print(time.time()-start)           "
   ]
  },
  {
   "cell_type": "markdown",
   "id": "e63d739b",
   "metadata": {},
   "source": [
    "# Through Numpy:"
   ]
  },
  {
   "cell_type": "code",
   "execution_count": 113,
   "id": "79f38b58",
   "metadata": {},
   "outputs": [
    {
     "name": "stdout",
     "output_type": "stream",
     "text": [
      "0.0018994808197021484\n"
     ]
    }
   ],
   "source": [
    "start = time.time()\n",
    "np_dotProduct_result = np.dot(mat1, mat2)\n",
    "print(time.time()-start)"
   ]
  },
  {
   "cell_type": "code",
   "execution_count": 114,
   "id": "c9e4895e",
   "metadata": {},
   "outputs": [],
   "source": [
    "assert np.sum(np.equal(answer, np_dotProduct_result)) == m*p"
   ]
  }
 ],
 "metadata": {
  "kernelspec": {
   "display_name": "Python 3",
   "language": "python",
   "name": "python3"
  },
  "language_info": {
   "codemirror_mode": {
    "name": "ipython",
    "version": 3
   },
   "file_extension": ".py",
   "mimetype": "text/x-python",
   "name": "python",
   "nbconvert_exporter": "python",
   "pygments_lexer": "ipython3",
   "version": "3.8.8"
  }
 },
 "nbformat": 4,
 "nbformat_minor": 5
}
