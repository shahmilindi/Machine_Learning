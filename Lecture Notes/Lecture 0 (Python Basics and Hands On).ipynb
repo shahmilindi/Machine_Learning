{
 "cells": [
  {
   "cell_type": "markdown",
   "id": "335ad1aa",
   "metadata": {},
   "source": [
    "### How Python Flows?\n",
    "\n",
    "+ High Level Python Code ---> Interpreter ----> Machine Language"
   ]
  },
  {
   "cell_type": "markdown",
   "id": "93fb5cd6",
   "metadata": {},
   "source": [
    "# 1. Variables"
   ]
  },
  {
   "cell_type": "code",
   "execution_count": 2,
   "id": "41167c9b",
   "metadata": {},
   "outputs": [
    {
     "data": {
      "text/plain": [
       "(int, str)"
      ]
     },
     "execution_count": 2,
     "metadata": {},
     "output_type": "execute_result"
    }
   ],
   "source": [
    "# Binding\n",
    "myFirstVariable = 1\n",
    "mySecondVariable = 'Test'\n",
    "\n",
    "type(myFirstVariable), type(mySecondVariable)"
   ]
  },
  {
   "cell_type": "code",
   "execution_count": 5,
   "id": "99388690",
   "metadata": {},
   "outputs": [
    {
     "data": {
      "text/plain": [
       "(3, 4.2)"
      ]
     },
     "execution_count": 5,
     "metadata": {},
     "output_type": "execute_result"
    }
   ],
   "source": [
    "myFirstVariable , mySecondVariable = 3, 4.2\n",
    "myFirstVariable, mySecondVariable"
   ]
  },
  {
   "cell_type": "code",
   "execution_count": 6,
   "id": "f69677e0",
   "metadata": {},
   "outputs": [],
   "source": [
    "MyFirstString = 'test'\n",
    "MyFirstString = \"test\"\n",
    "MyFirstString = '''test'''  #MultiLine String"
   ]
  },
  {
   "cell_type": "code",
   "execution_count": 7,
   "id": "8c426d17",
   "metadata": {},
   "outputs": [],
   "source": [
    "# F Strings:"
   ]
  },
  {
   "cell_type": "code",
   "execution_count": 12,
   "id": "86bff4ed",
   "metadata": {},
   "outputs": [
    {
     "data": {
      "text/plain": [
       "'Variable is 3 and string is test'"
      ]
     },
     "execution_count": 12,
     "metadata": {},
     "output_type": "execute_result"
    }
   ],
   "source": [
    "fStringOne = f'Variable is {myFirstVariable} and string is {MyFirstString}'\n",
    "fStringOne"
   ]
  },
  {
   "cell_type": "code",
   "execution_count": 13,
   "id": "88ee3b45",
   "metadata": {},
   "outputs": [
    {
     "data": {
      "text/plain": [
       "['Variable', 'is', '3', 'and', 'string', 'is', 'test']"
      ]
     },
     "execution_count": 13,
     "metadata": {},
     "output_type": "execute_result"
    }
   ],
   "source": [
    "fStringOne.split()"
   ]
  },
  {
   "cell_type": "code",
   "execution_count": 14,
   "id": "3baf13af",
   "metadata": {},
   "outputs": [
    {
     "data": {
      "text/plain": [
       "['V',\n",
       " 'a',\n",
       " 'r',\n",
       " 'i',\n",
       " 'a',\n",
       " 'b',\n",
       " 'l',\n",
       " 'e',\n",
       " ' ',\n",
       " 'i',\n",
       " 's',\n",
       " ' ',\n",
       " '3',\n",
       " ' ',\n",
       " 'a',\n",
       " 'n',\n",
       " 'd',\n",
       " ' ',\n",
       " 's',\n",
       " 't',\n",
       " 'r',\n",
       " 'i',\n",
       " 'n',\n",
       " 'g',\n",
       " ' ',\n",
       " 'i',\n",
       " 's',\n",
       " ' ',\n",
       " 't',\n",
       " 'e',\n",
       " 's',\n",
       " 't']"
      ]
     },
     "execution_count": 14,
     "metadata": {},
     "output_type": "execute_result"
    }
   ],
   "source": [
    "list(fStringOne)"
   ]
  },
  {
   "cell_type": "code",
   "execution_count": 8,
   "id": "2ca3703b",
   "metadata": {},
   "outputs": [
    {
     "data": {
      "text/plain": [
       "(1, 1)"
      ]
     },
     "execution_count": 8,
     "metadata": {},
     "output_type": "execute_result"
    }
   ],
   "source": [
    "a = 1\n",
    "b = a\n",
    "a, b"
   ]
  },
  {
   "cell_type": "code",
   "execution_count": 9,
   "id": "28c9eccc",
   "metadata": {},
   "outputs": [
    {
     "data": {
      "text/plain": [
       "(2, 1)"
      ]
     },
     "execution_count": 9,
     "metadata": {},
     "output_type": "execute_result"
    }
   ],
   "source": [
    "a = 2\n",
    "a , b"
   ]
  },
  {
   "cell_type": "code",
   "execution_count": 10,
   "id": "7ec3d602",
   "metadata": {},
   "outputs": [],
   "source": [
    "del(a)"
   ]
  },
  {
   "cell_type": "code",
   "execution_count": null,
   "id": "0c4e291f",
   "metadata": {},
   "outputs": [],
   "source": [
    "print(fStringOne)"
   ]
  },
  {
   "cell_type": "code",
   "execution_count": 16,
   "id": "a75ba966",
   "metadata": {},
   "outputs": [
    {
     "name": "stdout",
     "output_type": "stream",
     "text": [
      "False\n"
     ]
    }
   ],
   "source": [
    "test = True\n",
    "def some_function():\n",
    "    global test\n",
    "    test = False # variable with local scope\n",
    "\n",
    "some_function()\n",
    "print(test) # value of variable is changed"
   ]
  },
  {
   "cell_type": "code",
   "execution_count": 17,
   "id": "ee658eac",
   "metadata": {},
   "outputs": [
    {
     "data": {
      "text/plain": [
       "bool"
      ]
     },
     "execution_count": 17,
     "metadata": {},
     "output_type": "execute_result"
    }
   ],
   "source": [
    "type(test)"
   ]
  },
  {
   "cell_type": "code",
   "execution_count": 18,
   "id": "10f92e85",
   "metadata": {},
   "outputs": [
    {
     "data": {
      "text/plain": [
       "(0, 10, 4, 0, 4, 2.0)"
      ]
     },
     "execution_count": 18,
     "metadata": {},
     "output_type": "execute_result"
    }
   ],
   "source": [
    "1//3, 1*10, 2**2, 2-2, 2+2, 10/5"
   ]
  },
  {
   "cell_type": "code",
   "execution_count": 20,
   "id": "3715a951",
   "metadata": {},
   "outputs": [
    {
     "data": {
      "text/plain": [
       "1"
      ]
     },
     "execution_count": 20,
     "metadata": {},
     "output_type": "execute_result"
    }
   ],
   "source": [
    "7%2"
   ]
  },
  {
   "cell_type": "code",
   "execution_count": 21,
   "id": "f506a007",
   "metadata": {},
   "outputs": [
    {
     "data": {
      "text/plain": [
       "'AB'"
      ]
     },
     "execution_count": 21,
     "metadata": {},
     "output_type": "execute_result"
    }
   ],
   "source": [
    "'A' + 'B'"
   ]
  },
  {
   "cell_type": "code",
   "execution_count": 22,
   "id": "016526eb",
   "metadata": {},
   "outputs": [
    {
     "data": {
      "text/plain": [
       "'aaa'"
      ]
     },
     "execution_count": 22,
     "metadata": {},
     "output_type": "execute_result"
    }
   ],
   "source": [
    "\"a\"*3"
   ]
  },
  {
   "cell_type": "code",
   "execution_count": 25,
   "id": "cce7195c",
   "metadata": {},
   "outputs": [
    {
     "data": {
      "text/plain": [
       "'Variable is 3 and string is test'"
      ]
     },
     "execution_count": 25,
     "metadata": {},
     "output_type": "execute_result"
    }
   ],
   "source": [
    "fStringOne"
   ]
  },
  {
   "cell_type": "code",
   "execution_count": 24,
   "id": "1b4b2800",
   "metadata": {},
   "outputs": [
    {
     "data": {
      "text/plain": [
       "'st'"
      ]
     },
     "execution_count": 24,
     "metadata": {},
     "output_type": "execute_result"
    }
   ],
   "source": [
    "x = fStringOne[-2:]\n",
    "x"
   ]
  },
  {
   "cell_type": "code",
   "execution_count": 26,
   "id": "2dac4e25",
   "metadata": {},
   "outputs": [
    {
     "data": {
      "text/plain": [
       "32"
      ]
     },
     "execution_count": 26,
     "metadata": {},
     "output_type": "execute_result"
    }
   ],
   "source": [
    "len(fStringOne)"
   ]
  },
  {
   "cell_type": "code",
   "execution_count": 27,
   "id": "72dacc1c",
   "metadata": {},
   "outputs": [
    {
     "data": {
      "text/plain": [
       "2"
      ]
     },
     "execution_count": 27,
     "metadata": {},
     "output_type": "execute_result"
    }
   ],
   "source": [
    "fStringOne.find('r')"
   ]
  },
  {
   "cell_type": "markdown",
   "id": "ad4c0b7d",
   "metadata": {},
   "source": [
    "# TypeCasting:"
   ]
  },
  {
   "cell_type": "code",
   "execution_count": 29,
   "id": "88327d86",
   "metadata": {},
   "outputs": [
    {
     "data": {
      "text/plain": [
       "5"
      ]
     },
     "execution_count": 29,
     "metadata": {},
     "output_type": "execute_result"
    }
   ],
   "source": [
    "int('5')"
   ]
  },
  {
   "cell_type": "code",
   "execution_count": 30,
   "id": "8c4c8324",
   "metadata": {},
   "outputs": [
    {
     "data": {
      "text/plain": [
       "{-3, 1, 2, 3, 5, 6, 22}"
      ]
     },
     "execution_count": 30,
     "metadata": {},
     "output_type": "execute_result"
    }
   ],
   "source": [
    "# Sets\n",
    "\n",
    "firstSet = {2,5,1,6,3,22,-3,5}\n",
    "firstSet"
   ]
  },
  {
   "cell_type": "code",
   "execution_count": null,
   "id": "a00af8f6",
   "metadata": {},
   "outputs": [],
   "source": [
    "firstSet."
   ]
  },
  {
   "cell_type": "markdown",
   "id": "3f29c29e",
   "metadata": {},
   "source": [
    "# Explore all Set Operations nd print in a neat way\n"
   ]
  },
  {
   "cell_type": "markdown",
   "id": "458377ac",
   "metadata": {},
   "source": [
    "# Ternary Operator\n",
    "[IF True] if [Expression] Else [IF False]"
   ]
  },
  {
   "cell_type": "code",
   "execution_count": 32,
   "id": "dbbd2321",
   "metadata": {},
   "outputs": [],
   "source": [
    "val = True if test else False "
   ]
  },
  {
   "cell_type": "code",
   "execution_count": 33,
   "id": "4378ebf9",
   "metadata": {},
   "outputs": [
    {
     "data": {
      "text/plain": [
       "False"
      ]
     },
     "execution_count": 33,
     "metadata": {},
     "output_type": "execute_result"
    }
   ],
   "source": [
    "val"
   ]
  },
  {
   "cell_type": "markdown",
   "id": "b64e2ba6",
   "metadata": {},
   "source": [
    "# Expressions:\n",
    "* Equality ==\n",
    "* Not Equal !=\n",
    "* Comparison >,<,>=,=<"
   ]
  },
  {
   "cell_type": "markdown",
   "id": "ab7ebe69",
   "metadata": {},
   "source": []
  },
  {
   "cell_type": "markdown",
   "id": "79ca84f7",
   "metadata": {},
   "source": [
    "# Functions:"
   ]
  },
  {
   "cell_type": "code",
   "execution_count": 39,
   "id": "8869a0fc",
   "metadata": {},
   "outputs": [],
   "source": [
    "def my_new_func(x, flag = True):\n",
    "    '''\n",
    "    This is a doctstring. It givea info about the funtion.\n",
    "    This funcn prints stuff\n",
    "    \n",
    "    Arguments:\n",
    "    x: Object to be printed\n",
    "    '''\n",
    "    if flag: \n",
    "        print(f'test print{x}')\n",
    "    else:\n",
    "        print('Flag is set to False')\n",
    "    \n",
    "#my_new_func('a')"
   ]
  },
  {
   "cell_type": "code",
   "execution_count": 40,
   "id": "66c24f36",
   "metadata": {},
   "outputs": [
    {
     "data": {
      "text/plain": [
       "5"
      ]
     },
     "execution_count": 40,
     "metadata": {},
     "output_type": "execute_result"
    }
   ],
   "source": [
    "len('hello')"
   ]
  },
  {
   "cell_type": "code",
   "execution_count": 41,
   "id": "a4526df5",
   "metadata": {},
   "outputs": [
    {
     "name": "stdout",
     "output_type": "stream",
     "text": [
      "test printtest\n"
     ]
    }
   ],
   "source": [
    "my_new_func('test')"
   ]
  },
  {
   "cell_type": "code",
   "execution_count": 43,
   "id": "36e4bea7",
   "metadata": {},
   "outputs": [
    {
     "data": {
      "text/plain": [
       "1.0"
      ]
     },
     "execution_count": 43,
     "metadata": {},
     "output_type": "execute_result"
    }
   ],
   "source": [
    "def new_func(a, b):\n",
    "    if b==0:\n",
    "        return 'Invalid iput for b'\n",
    "    else:\n",
    "        return a/b\n",
    "    \n",
    "new_func(1, 1)"
   ]
  },
  {
   "cell_type": "code",
   "execution_count": 45,
   "id": "f37d9751",
   "metadata": {},
   "outputs": [
    {
     "name": "stdout",
     "output_type": "stream",
     "text": [
      "division by zero\n",
      "Value of b cannot be zero\n"
     ]
    }
   ],
   "source": [
    "def new_func_2(a, b):\n",
    "    try:\n",
    "        c = a/b\n",
    "    except Exception as e:\n",
    "        print(e)\n",
    "        print('Value of b cannot be zero')\n",
    "    \n",
    "new_func_2(1, 0)\n",
    "new_func_2(1, 1)"
   ]
  },
  {
   "cell_type": "code",
   "execution_count": 50,
   "id": "9156b26c",
   "metadata": {},
   "outputs": [],
   "source": [
    "def new_funcn(*args, **kwargs):\n",
    "    print(args)\n",
    "    print(kwargs)\n",
    "    print(args[0])\n",
    "    print(kwargs.get('a'))"
   ]
  },
  {
   "cell_type": "code",
   "execution_count": 51,
   "id": "94fc2c1b",
   "metadata": {},
   "outputs": [
    {
     "name": "stdout",
     "output_type": "stream",
     "text": [
      "('alpha', 'beta')\n",
      "{'a': 1, 'b': 2}\n",
      "alpha\n",
      "1\n"
     ]
    }
   ],
   "source": [
    "alpha = 'alpha'\n",
    "beta = 'beta'\n",
    "new_funcn(alpha, beta, a=1, b=2)"
   ]
  },
  {
   "cell_type": "code",
   "execution_count": 52,
   "id": "40763ef6",
   "metadata": {},
   "outputs": [
    {
     "data": {
      "text/plain": [
       "(2, 3)"
      ]
     },
     "execution_count": 52,
     "metadata": {},
     "output_type": "execute_result"
    }
   ],
   "source": [
    "def new_funcn1(a,b):\n",
    "    return a,b\n",
    "\n",
    "x,y = new_funcn1(2,3)\n",
    "x,y"
   ]
  },
  {
   "cell_type": "markdown",
   "id": "e0f1a183",
   "metadata": {},
   "source": [
    "# Lambda Expressions\n",
    "\n",
    "### format = variable = lambda arguments : expresion\n",
    "\n",
    "* Single expression anonymous function\n",
    "* inline function\n"
   ]
  },
  {
   "cell_type": "code",
   "execution_count": 53,
   "id": "63d02ab9",
   "metadata": {},
   "outputs": [
    {
     "data": {
      "text/plain": [
       "-8"
      ]
     },
     "execution_count": 53,
     "metadata": {},
     "output_type": "execute_result"
    }
   ],
   "source": [
    "my_lambda = lambda x,y,z : (x - 100 + y -z)*2**3\n",
    "my_lambda(100,2,3)"
   ]
  },
  {
   "cell_type": "markdown",
   "id": "09005ab6",
   "metadata": {},
   "source": [
    "# Loops and Conditions:"
   ]
  },
  {
   "cell_type": "code",
   "execution_count": 54,
   "id": "5c1f883e",
   "metadata": {},
   "outputs": [
    {
     "name": "stdout",
     "output_type": "stream",
     "text": [
      "10\n",
      "9\n",
      "8\n",
      "7\n",
      "6\n",
      "5\n",
      "4\n",
      "3\n",
      "2\n",
      "1\n"
     ]
    }
   ],
   "source": [
    "input1 = 10\n",
    "while input1>0:\n",
    "    print(input1)\n",
    "    input1 -= 1"
   ]
  },
  {
   "cell_type": "code",
   "execution_count": 55,
   "id": "f89d7674",
   "metadata": {},
   "outputs": [
    {
     "name": "stdout",
     "output_type": "stream",
     "text": [
      "d\n",
      "g\n",
      "h\n",
      "v\n",
      "h\n",
      "s\n",
      "g\n"
     ]
    }
   ],
   "source": [
    "for i in 'dghvhsg':\n",
    "    print(i)"
   ]
  },
  {
   "cell_type": "code",
   "execution_count": 56,
   "id": "d8223d85",
   "metadata": {},
   "outputs": [],
   "source": [
    "def factorial(n):\n",
    "    if n==0:\n",
    "        return 1\n",
    "    else:\n",
    "        return n* factorial(n-1)"
   ]
  },
  {
   "cell_type": "code",
   "execution_count": 57,
   "id": "90fdb416",
   "metadata": {},
   "outputs": [
    {
     "data": {
      "text/plain": [
       "120"
      ]
     },
     "execution_count": 57,
     "metadata": {},
     "output_type": "execute_result"
    }
   ],
   "source": [
    "factorial(5)"
   ]
  },
  {
   "cell_type": "markdown",
   "id": "b91fa2d6",
   "metadata": {},
   "source": [
    "# Homework recursive for fibonacci  "
   ]
  },
  {
   "cell_type": "markdown",
   "id": "a4d30aee",
   "metadata": {},
   "source": [
    "# Collections\n",
    "* lists, tuples, dictionaries"
   ]
  },
  {
   "cell_type": "code",
   "execution_count": 59,
   "id": "cf6a87b5",
   "metadata": {},
   "outputs": [],
   "source": [
    "my_list = ['A', 'B', 1, 2.5]\n",
    "my_tuple = ('f', 'm', 1, 7)"
   ]
  },
  {
   "cell_type": "code",
   "execution_count": 62,
   "id": "b7785083",
   "metadata": {},
   "outputs": [
    {
     "data": {
      "text/plain": [
       "1"
      ]
     },
     "execution_count": 62,
     "metadata": {},
     "output_type": "execute_result"
    }
   ],
   "source": [
    "my_dict = {'a': 1, 'b': 2}\n",
    "my_dict['a']"
   ]
  },
  {
   "cell_type": "code",
   "execution_count": 63,
   "id": "e1b1066e",
   "metadata": {},
   "outputs": [
    {
     "data": {
      "text/plain": [
       "([2, 'A', 'B', 1, 2.5], ['A', 'B', 1, 2.5])"
      ]
     },
     "execution_count": 63,
     "metadata": {},
     "output_type": "execute_result"
    }
   ],
   "source": [
    "my_list_2 = []\n",
    "my_list_2.append(2)\n",
    "my_list_2.extend(['A', 'B', 1, 2.5])\n",
    "\n",
    "my_list_3 = list(('A', 'B',1 , 2.5))# convert tuple/set to list\n",
    "\n",
    "my_list_2, my_list_3"
   ]
  },
  {
   "cell_type": "code",
   "execution_count": 65,
   "id": "6b911ea3",
   "metadata": {},
   "outputs": [
    {
     "data": {
      "text/plain": [
       "{'test': 4, 'test2': 5, 'test3': 6}"
      ]
     },
     "execution_count": 65,
     "metadata": {},
     "output_type": "execute_result"
    }
   ],
   "source": [
    "my_dict_2 = dict()\n",
    "my_dict_2['test'] = 4\n",
    "my_dict_2['test2'] = 5\n",
    "my_dict_2['test3'] = 6\n",
    "my_dict_2"
   ]
  },
  {
   "cell_type": "code",
   "execution_count": 66,
   "id": "fb7f1810",
   "metadata": {},
   "outputs": [
    {
     "name": "stdout",
     "output_type": "stream",
     "text": [
      "test 4\n",
      "test2 5\n",
      "test3 6\n"
     ]
    }
   ],
   "source": [
    "for key in my_dict_2:\n",
    "    print(key, my_dict_2[key])"
   ]
  },
  {
   "cell_type": "code",
   "execution_count": 67,
   "id": "4a155559",
   "metadata": {},
   "outputs": [],
   "source": [
    "# Loop Over \n",
    "list1 = [1, 2, 3, 4, 5]\n",
    "list2 = [0,9,8,7,6]"
   ]
  },
  {
   "cell_type": "code",
   "execution_count": 70,
   "id": "dd165bb7",
   "metadata": {},
   "outputs": [
    {
     "name": "stdout",
     "output_type": "stream",
     "text": [
      "0 1\n",
      "1 2\n",
      "2 3\n",
      "3 4\n",
      "4 5\n"
     ]
    }
   ],
   "source": [
    "# get index in loop:\n",
    "for x,y in enumerate(list1):\n",
    "    print(x,y)"
   ]
  },
  {
   "cell_type": "markdown",
   "id": "fd5aa9d0",
   "metadata": {},
   "source": [
    "## Object Oriented Design - Classes"
   ]
  },
  {
   "cell_type": "code",
   "execution_count": 76,
   "id": "bde37bd5",
   "metadata": {},
   "outputs": [
    {
     "data": {
      "text/plain": [
       "10"
      ]
     },
     "execution_count": 76,
     "metadata": {},
     "output_type": "execute_result"
    }
   ],
   "source": [
    "class MyClass:\n",
    "    def __init__(self, x):\n",
    "        self.x = x\n",
    "        \n",
    "    def MyClassFunction(self):\n",
    "        return self.x\n",
    "\n",
    "m = MyClass(10)\n",
    "m.MyClassFunction()"
   ]
  },
  {
   "cell_type": "code",
   "execution_count": 77,
   "id": "f1a490b5",
   "metadata": {},
   "outputs": [
    {
     "name": "stdout",
     "output_type": "stream",
     "text": [
      "[5, 6]\n",
      "[5, 6]\n"
     ]
    }
   ],
   "source": [
    "a, b = 5,6\n",
    "c = [a,b]\n",
    "print(c)\n",
    "a, b = 5,7\n",
    "print(c)"
   ]
  },
  {
   "cell_type": "markdown",
   "id": "51f19270",
   "metadata": {},
   "source": [
    "# Read/ Write"
   ]
  },
  {
   "cell_type": "code",
   "execution_count": 80,
   "id": "2a584c14",
   "metadata": {},
   "outputs": [
    {
     "name": "stdout",
     "output_type": "stream",
     "text": [
      "hwfkwgvbcnmmmmmmmmmmmmmmmmmmmmv\n"
     ]
    }
   ],
   "source": [
    "test = input()"
   ]
  },
  {
   "cell_type": "code",
   "execution_count": 83,
   "id": "9073a9a1",
   "metadata": {},
   "outputs": [],
   "source": [
    "with open('test_file.txt', 'w') as my_file:\n",
    "    my_file.write(test)"
   ]
  },
  {
   "cell_type": "code",
   "execution_count": null,
   "id": "6838ab3b",
   "metadata": {},
   "outputs": [],
   "source": [
    "with open('test_file.txt', 'r') as my_file:\n",
    "    for line in my_file:\n",
    "        print(line)"
   ]
  },
  {
   "cell_type": "code",
   "execution_count": null,
   "id": "8b797e2d",
   "metadata": {},
   "outputs": [],
   "source": []
  },
  {
   "cell_type": "code",
   "execution_count": null,
   "id": "a1b992dd",
   "metadata": {},
   "outputs": [],
   "source": []
  },
  {
   "cell_type": "code",
   "execution_count": null,
   "id": "b354c472",
   "metadata": {},
   "outputs": [],
   "source": []
  },
  {
   "cell_type": "code",
   "execution_count": null,
   "id": "fe9bf86c",
   "metadata": {},
   "outputs": [],
   "source": []
  },
  {
   "cell_type": "code",
   "execution_count": null,
   "id": "6f6d9842",
   "metadata": {},
   "outputs": [],
   "source": []
  },
  {
   "cell_type": "code",
   "execution_count": null,
   "id": "9d154c87",
   "metadata": {},
   "outputs": [],
   "source": []
  }
 ],
 "metadata": {
  "kernelspec": {
   "display_name": "Python 3",
   "language": "python",
   "name": "python3"
  },
  "language_info": {
   "codemirror_mode": {
    "name": "ipython",
    "version": 3
   },
   "file_extension": ".py",
   "mimetype": "text/x-python",
   "name": "python",
   "nbconvert_exporter": "python",
   "pygments_lexer": "ipython3",
   "version": "3.8.8"
  }
 },
 "nbformat": 4,
 "nbformat_minor": 5
}
