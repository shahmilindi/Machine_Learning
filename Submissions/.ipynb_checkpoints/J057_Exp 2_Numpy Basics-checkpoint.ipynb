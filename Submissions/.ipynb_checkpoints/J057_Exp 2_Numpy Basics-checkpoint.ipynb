{
 "cells": [
  {
   "cell_type": "markdown",
   "id": "f8183fac",
   "metadata": {},
   "source": [
    "# Q1"
   ]
  },
  {
   "cell_type": "markdown",
   "id": "e2e78976",
   "metadata": {},
   "source": [
    "# Matrix addition and Substraction"
   ]
  },
  {
   "cell_type": "code",
   "execution_count": 24,
   "id": "fe816f49",
   "metadata": {},
   "outputs": [],
   "source": [
    "matrix1 = np.array([[1,3],[2,4]])\n",
    "matrix2 = np.array([[1,2],[3,4]])"
   ]
  },
  {
   "cell_type": "code",
   "execution_count": 26,
   "id": "a2166fdb",
   "metadata": {
    "scrolled": true
   },
   "outputs": [
    {
     "name": "stdout",
     "output_type": "stream",
     "text": [
      "[[2 5]\n",
      " [5 8]]\n"
     ]
    }
   ],
   "source": [
    "print(matrix1+matrix2)"
   ]
  },
  {
   "cell_type": "markdown",
   "id": "7812ad07",
   "metadata": {},
   "source": [
    "#  Scalar Addition:"
   ]
  },
  {
   "cell_type": "code",
   "execution_count": 31,
   "id": "626c3a97",
   "metadata": {
    "scrolled": true
   },
   "outputs": [
    {
     "name": "stdout",
     "output_type": "stream",
     "text": [
      "[[2 4]\n",
      " [3 5]]\n"
     ]
    }
   ],
   "source": [
    "print(1+matrix1)"
   ]
  },
  {
   "cell_type": "code",
   "execution_count": 27,
   "id": "092d6185",
   "metadata": {},
   "outputs": [
    {
     "name": "stdout",
     "output_type": "stream",
     "text": [
      "[[ 0  1]\n",
      " [-1  0]]\n"
     ]
    }
   ],
   "source": [
    "print(matrix1-matrix2)"
   ]
  },
  {
   "cell_type": "code",
   "execution_count": 33,
   "id": "f66c9a18",
   "metadata": {},
   "outputs": [],
   "source": [
    "#  Scalar Substraction:"
   ]
  },
  {
   "cell_type": "code",
   "execution_count": 34,
   "id": "d0ef9f2d",
   "metadata": {},
   "outputs": [
    {
     "name": "stdout",
     "output_type": "stream",
     "text": [
      "[[ 0 -2]\n",
      " [-1 -3]]\n"
     ]
    }
   ],
   "source": [
    "print(1-matrix1)"
   ]
  },
  {
   "cell_type": "markdown",
   "id": "666a0e99",
   "metadata": {},
   "source": [
    "# Matrix Vector Multiplication"
   ]
  },
  {
   "cell_type": "code",
   "execution_count": 36,
   "id": "2aac5092",
   "metadata": {},
   "outputs": [
    {
     "name": "stdout",
     "output_type": "stream",
     "text": [
      "[56 34  9]\n"
     ]
    }
   ],
   "source": [
    "vector = np.array([9,1])\n",
    "matrix = np.array([[6,2],[3,7],[1,0]])\n",
    "print(np.dot(matrix,vector))"
   ]
  },
  {
   "cell_type": "code",
   "execution_count": 41,
   "id": "8fdd9092",
   "metadata": {},
   "outputs": [],
   "source": [
    "a = np.random.randint(low=1, high =100, size=(3,3))\n",
    "b = np.random.randint(low=1, high =100, size=(3,3))"
   ]
  },
  {
   "cell_type": "code",
   "execution_count": 47,
   "id": "5650d25b",
   "metadata": {},
   "outputs": [
    {
     "name": "stdout",
     "output_type": "stream",
     "text": [
      "Matrix A\n",
      "[[27  5 56]\n",
      " [85 91 94]\n",
      " [68  4 64]]\n",
      "Matrix B\n",
      "[[13 58 69]\n",
      " [46 24 78]\n",
      " [10  3 42]]\n"
     ]
    }
   ],
   "source": [
    "print('Matrix A')\n",
    "print(a)\n",
    "print('Matrix B')\n",
    "print(b)"
   ]
  },
  {
   "cell_type": "markdown",
   "id": "3ded805c",
   "metadata": {},
   "source": [
    "# To verify A+B = B+A"
   ]
  },
  {
   "cell_type": "code",
   "execution_count": 55,
   "id": "a9403e17",
   "metadata": {
    "scrolled": true
   },
   "outputs": [
    {
     "name": "stdout",
     "output_type": "stream",
     "text": [
      "[[ 40  63 125]\n",
      " [131 115 172]\n",
      " [ 78   7 106]]\n"
     ]
    }
   ],
   "source": [
    "print(a+b)"
   ]
  },
  {
   "cell_type": "code",
   "execution_count": 56,
   "id": "5154033b",
   "metadata": {},
   "outputs": [
    {
     "name": "stdout",
     "output_type": "stream",
     "text": [
      "[[ 40  63 125]\n",
      " [131 115 172]\n",
      " [ 78   7 106]]\n"
     ]
    }
   ],
   "source": [
    "print(b+a)"
   ]
  },
  {
   "cell_type": "markdown",
   "id": "4d6f84ef",
   "metadata": {},
   "source": [
    "# To verify A.B = B.A"
   ]
  },
  {
   "cell_type": "code",
   "execution_count": 51,
   "id": "540a822e",
   "metadata": {},
   "outputs": [
    {
     "name": "stdout",
     "output_type": "stream",
     "text": [
      "A.B\n",
      "[[ 1141  1854  4605]\n",
      " [ 6231  7396 16911]\n",
      " [ 1708  4232  7692]]\n",
      "B.A\n",
      "[[ 9973  5619 10596]\n",
      " [ 8586  2726  9824]\n",
      " [ 3381   491  3530]]\n"
     ]
    }
   ],
   "source": [
    "print('A.B')\n",
    "print(np.dot(a,b))\n",
    "print('B.A')\n",
    "print(np.dot(b,a)) # Not equal"
   ]
  },
  {
   "cell_type": "code",
   "execution_count": 52,
   "id": "79119bc2",
   "metadata": {},
   "outputs": [],
   "source": [
    "#   Therefore, A.B != B.A"
   ]
  },
  {
   "cell_type": "markdown",
   "id": "123037b6",
   "metadata": {},
   "source": [
    "# Associative Property"
   ]
  },
  {
   "cell_type": "code",
   "execution_count": 58,
   "id": "3ae14e89",
   "metadata": {},
   "outputs": [],
   "source": [
    "a = np.random.randint(low=1, high =100, size=(3,3))\n",
    "b = np.random.randint(low=1, high =100, size=(3,3))\n",
    "c = np.random.randint(low=1, high =100, size=(3,3))\n"
   ]
  },
  {
   "cell_type": "code",
   "execution_count": 66,
   "id": "ead67bf3",
   "metadata": {},
   "outputs": [
    {
     "name": "stdout",
     "output_type": "stream",
     "text": [
      "(A.B).C\n",
      "[[1884549 2042902 2125523]\n",
      " [1127751 1179662 1252084]\n",
      " [1270140 1435632 1406166]]\n",
      "A.(B.C)\n",
      "[[1884549 2042902 2125523]\n",
      " [1127751 1179662 1252084]\n",
      " [1270140 1435632 1406166]]\n"
     ]
    }
   ],
   "source": [
    "print('(A.B).C')\n",
    "print(np.dot(np.dot(a,b),c))\n",
    "print('A.(B.C)')\n",
    "print(np.dot(a, np.dot(b,c)))"
   ]
  },
  {
   "cell_type": "markdown",
   "id": "68d8712d",
   "metadata": {},
   "source": [
    "# Q3."
   ]
  },
  {
   "cell_type": "markdown",
   "id": "6e463094",
   "metadata": {},
   "source": [
    "# Inverse Matrix\n"
   ]
  },
  {
   "cell_type": "code",
   "execution_count": 53,
   "id": "f51d4688",
   "metadata": {},
   "outputs": [
    {
     "name": "stdout",
     "output_type": "stream",
     "text": [
      "Orignal Matrix\n",
      "[[38 30 45]\n",
      " [45 46 15]\n",
      " [ 8 11 13]]\n",
      "Inverse Matrix\n",
      "[[ 0.05268281  0.01277528 -0.19710427]\n",
      " [-0.05657623  0.01630369  0.17702884]\n",
      " [ 0.015452   -0.02165714  0.04842438]]\n"
     ]
    }
   ],
   "source": [
    "matrix = np.random.randint(low = 1, high =50, size=(3,3) )\n",
    "print('Orignal Matrix')\n",
    "print(matrix)\n",
    "print('Inverse Matrix')\n",
    "print(np.linalg.inv(matrix))"
   ]
  },
  {
   "cell_type": "markdown",
   "id": "14cfdaa4",
   "metadata": {},
   "source": [
    "# Q4. Experimenting with Larger dimentions"
   ]
  },
  {
   "cell_type": "code",
   "execution_count": 90,
   "id": "e6854cf3",
   "metadata": {},
   "outputs": [],
   "source": [
    "mat1 = np.random.randint(low = 1, high =50, size=(1000,1000) )\n",
    "mat2 = np.random.randint(low = 1, high =50, size=(1000,1000) )\n"
   ]
  },
  {
   "cell_type": "code",
   "execution_count": 91,
   "id": "f7f76c1c",
   "metadata": {},
   "outputs": [
    {
     "name": "stdout",
     "output_type": "stream",
     "text": [
      "Matrix 1\n",
      "[[13 17  9 ... 48 37 12]\n",
      " [41 27 28 ... 11 11  7]\n",
      " [23 29 35 ... 36 13 14]\n",
      " ...\n",
      " [ 4 30 39 ... 42 32 22]\n",
      " [43 35 44 ... 37 23 19]\n",
      " [35 10 35 ... 29 11 33]]\n",
      "Matrix 2\n",
      "[[45 23  1 ... 24 42 30]\n",
      " [20 17 39 ... 11 30 20]\n",
      " [ 7 44 47 ... 19 30 36]\n",
      " ...\n",
      " [44 39 20 ... 29 28 42]\n",
      " [19 17 20 ... 17 19  5]\n",
      " [23 17  3 ... 36 40  2]]\n"
     ]
    }
   ],
   "source": [
    "print('Matrix 1')\n",
    "print(mat1)\n",
    "print('Matrix 2')\n",
    "print(mat2)"
   ]
  },
  {
   "cell_type": "code",
   "execution_count": 92,
   "id": "9e564221",
   "metadata": {},
   "outputs": [],
   "source": [
    "m = mat1.shape[0]\n",
    "p = mat2.shape[0]"
   ]
  },
  {
   "cell_type": "code",
   "execution_count": 93,
   "id": "2612bba8",
   "metadata": {},
   "outputs": [],
   "source": [
    "assert mat1.shape == mat2.shape"
   ]
  },
  {
   "cell_type": "code",
   "execution_count": 94,
   "id": "90053ed0",
   "metadata": {},
   "outputs": [],
   "source": [
    "import time "
   ]
  },
  {
   "cell_type": "code",
   "execution_count": 95,
   "id": "7ec8e032",
   "metadata": {},
   "outputs": [
    {
     "name": "stdout",
     "output_type": "stream",
     "text": [
      "124.77035975456238\n"
     ]
    }
   ],
   "source": [
    "r,c = mat1.shape\n",
    "final = []\n",
    "start = time.time()\n",
    "for i in range(r):\n",
    "    \n",
    "    for j in range(c):\n",
    "        row = mat1[i,j]+mat2[i,j]\n",
    "    final.append(row)\n",
    "    \n",
    "print(time.time()-start)"
   ]
  },
  {
   "cell_type": "markdown",
   "id": "ed611914",
   "metadata": {},
   "source": [
    "## Through Numpy:"
   ]
  },
  {
   "cell_type": "code",
   "execution_count": 96,
   "id": "2ea9e94b",
   "metadata": {},
   "outputs": [
    {
     "name": "stdout",
     "output_type": "stream",
     "text": [
      "0.3048889636993408\n"
     ]
    }
   ],
   "source": [
    "start = time.time()\n",
    "np_ans = mat1+mat2\n",
    "print(time.time()-start)"
   ]
  },
  {
   "cell_type": "code",
   "execution_count": 97,
   "id": "0e2b8df2",
   "metadata": {},
   "outputs": [],
   "source": [
    "# Therefore, numpy Addition is a lot faster"
   ]
  },
  {
   "cell_type": "markdown",
   "id": "0152bcc1",
   "metadata": {},
   "source": [
    "# Matrix Multiplication"
   ]
  },
  {
   "cell_type": "code",
   "execution_count": 2,
   "id": "e06615dc",
   "metadata": {},
   "outputs": [
    {
     "ename": "NameError",
     "evalue": "name 'mat1' is not defined",
     "output_type": "error",
     "traceback": [
      "\u001b[1;31m---------------------------------------------------------------------------\u001b[0m",
      "\u001b[1;31mNameError\u001b[0m                                 Traceback (most recent call last)",
      "\u001b[1;32m<ipython-input-2-dc94e6d43bb9>\u001b[0m in \u001b[0;36m<module>\u001b[1;34m\u001b[0m\n\u001b[1;32m----> 1\u001b[1;33m \u001b[1;32massert\u001b[0m \u001b[0mmat1\u001b[0m\u001b[1;33m.\u001b[0m\u001b[0mshape\u001b[0m\u001b[1;33m[\u001b[0m\u001b[1;36m0\u001b[0m\u001b[1;33m]\u001b[0m \u001b[1;33m==\u001b[0m \u001b[0mmat2\u001b[0m\u001b[1;33m.\u001b[0m\u001b[0mshape\u001b[0m\u001b[1;33m[\u001b[0m\u001b[1;36m1\u001b[0m\u001b[1;33m]\u001b[0m\u001b[1;33m\u001b[0m\u001b[1;33m\u001b[0m\u001b[0m\n\u001b[0m",
      "\u001b[1;31mNameError\u001b[0m: name 'mat1' is not defined"
     ]
    }
   ],
   "source": [
    "assert mat1.shape[0] == mat2.shape[1]"
   ]
  },
  {
   "cell_type": "code",
   "execution_count": null,
   "id": "ab64f986",
   "metadata": {},
   "outputs": [],
   "source": [
    "start = time.time()\n",
    "m = mat1.shape[0]\n",
    "p = mat2.shape[1]\n",
    "n = mat2.shape[0]"
   ]
  },
  {
   "cell_type": "code",
   "execution_count": 110,
   "id": "226968d3",
   "metadata": {},
   "outputs": [],
   "source": [
    "answer = np.zeros((m,p))"
   ]
  },
  {
   "cell_type": "code",
   "execution_count": 111,
   "id": "a79c678b",
   "metadata": {},
   "outputs": [],
   "source": [
    "mat1 = np.random.randint(low = 1, high =50, size=(1000,1000) )\n",
    "mat2 = np.random.randint(low = 1, high =50, size=(1000,1000) )\n"
   ]
  },
  {
   "cell_type": "code",
   "execution_count": 112,
   "id": "c1ed15aa",
   "metadata": {},
   "outputs": [
    {
     "name": "stdout",
     "output_type": "stream",
     "text": [
      "4.993820428848267\n"
     ]
    }
   ],
   "source": [
    "m = mat1.shape[0]\n",
    "n = mat2.shape[0]\n",
    "c =mat2.shape[1]\n",
    "for i in range(m):\n",
    "    for j in range(c):\n",
    "        for k in range(n):\n",
    "            answer[i,j] += mat1[i,k] * mat2[k,j]\n",
    "print(time.time()-start)           "
   ]
  },
  {
   "cell_type": "markdown",
   "id": "e63d739b",
   "metadata": {},
   "source": [
    "# Through Numpy:"
   ]
  },
  {
   "cell_type": "code",
   "execution_count": 113,
   "id": "79f38b58",
   "metadata": {},
   "outputs": [
    {
     "name": "stdout",
     "output_type": "stream",
     "text": [
      "0.0018994808197021484\n"
     ]
    }
   ],
   "source": [
    "start = time.time()\n",
    "np_dotProduct_result = np.dot(mat1, mat2)\n",
    "print(time.time()-start)"
   ]
  },
  {
   "cell_type": "code",
   "execution_count": 114,
   "id": "c9e4895e",
   "metadata": {},
   "outputs": [],
   "source": [
    "assert np.sum(np.equal(answer, np_dotProduct_result)) == m*p"
   ]
  },
  {
   "cell_type": "code",
   "execution_count": null,
   "id": "59bb407c",
   "metadata": {},
   "outputs": [],
   "source": [
    "# Therefore, numpy Addition is a lot faster"
   ]
  },
  {
   "cell_type": "code",
   "execution_count": null,
   "id": "b9cafdae",
   "metadata": {},
   "outputs": [],
   "source": []
  },
  {
   "cell_type": "code",
   "execution_count": null,
   "id": "1fb01129",
   "metadata": {},
   "outputs": [],
   "source": []
  },
  {
   "cell_type": "code",
   "execution_count": null,
   "id": "275efb2a",
   "metadata": {},
   "outputs": [],
   "source": []
  },
  {
   "cell_type": "code",
   "execution_count": null,
   "id": "9f2da0a7",
   "metadata": {},
   "outputs": [],
   "source": []
  },
  {
   "cell_type": "code",
   "execution_count": null,
   "id": "ca7fa09f",
   "metadata": {},
   "outputs": [],
   "source": []
  },
  {
   "cell_type": "code",
   "execution_count": null,
   "id": "2ba461d9",
   "metadata": {},
   "outputs": [],
   "source": []
  },
  {
   "cell_type": "code",
   "execution_count": null,
   "id": "f663e791",
   "metadata": {},
   "outputs": [],
   "source": []
  },
  {
   "cell_type": "code",
   "execution_count": null,
   "id": "510795a7",
   "metadata": {},
   "outputs": [],
   "source": []
  }
 ],
 "metadata": {
  "kernelspec": {
   "display_name": "Python 3",
   "language": "python",
   "name": "python3"
  },
  "language_info": {
   "codemirror_mode": {
    "name": "ipython",
    "version": 3
   },
   "file_extension": ".py",
   "mimetype": "text/x-python",
   "name": "python",
   "nbconvert_exporter": "python",
   "pygments_lexer": "ipython3",
   "version": "3.8.8"
  }
 },
 "nbformat": 4,
 "nbformat_minor": 5
}
