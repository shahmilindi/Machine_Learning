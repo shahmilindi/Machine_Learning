{
 "cells": [
  {
   "cell_type": "markdown",
   "id": "8830800a",
   "metadata": {},
   "source": [
    "# Exp 1 : Python exercises from Hackerrank"
   ]
  },
  {
   "cell_type": "markdown",
   "id": "b46df913",
   "metadata": {},
   "source": [
    "## Milindi Shah \n",
    "## J057"
   ]
  },
  {
   "cell_type": "markdown",
   "id": "0f186ad4",
   "metadata": {},
   "source": [
    "# Day 0: Hello, World.\n"
   ]
  },
  {
   "cell_type": "code",
   "execution_count": 2,
   "id": "df4996e2",
   "metadata": {},
   "outputs": [
    {
     "name": "stdout",
     "output_type": "stream",
     "text": [
      "hello\n",
      "Hello, World.\n",
      "hello\n"
     ]
    }
   ],
   "source": [
    "# Read a full line of input from stdin and save it to our dynamically typed variable, input_string.\n",
    "inputString = input()\n",
    "\n",
    "# Print a string literal saying \"Hello, World.\" to stdout.\n",
    "print('Hello, World.')\n",
    "print(inputString)\n"
   ]
  },
  {
   "cell_type": "markdown",
   "id": "53c22ff5",
   "metadata": {},
   "source": [
    "# Day 1: Data Types\n",
    "\n",
    "\n"
   ]
  },
  {
   "cell_type": "code",
   "execution_count": 5,
   "id": "0b015eaa",
   "metadata": {},
   "outputs": [
    {
     "name": "stdout",
     "output_type": "stream",
     "text": [
      "Enter an Integer3\n",
      "Enter a Double variable2.8\n",
      "Enter a String abc\n",
      "Sum of both integers is  4\n",
      "Sum of both double is  4\n",
      "Concated Stings is  HackerRank abc\n"
     ]
    }
   ],
   "source": [
    "i = 4\n",
    "d = 4.0\n",
    "s = 'HackerRank '\n",
    "\n",
    "# Declare second integer, double, and String variables.\n",
    "secondInt = 1\n",
    "secondDouble = 11.0\n",
    "secondString = 'hello world'\n",
    "\n",
    "# Read and save an integer, double, and String to your variables.\n",
    "inputInt = int(input('Enter an Integer'))\n",
    "inputDouble = float(input('Enter a Double variable'))\n",
    "inputString = str(input('Enter a String '))\n",
    "\n",
    "# Print the sum of both integer variables on a new line.\n",
    "Sum_two_Int = secondInt + inputInt\n",
    "print('Sum of both integers is ', Sum_two_Int)\n",
    "\n",
    "# Print the sum of the double variables on a new line.\n",
    "\n",
    "Sum_two_double = secondInt + inputInt\n",
    "print('Sum of both double is ', Sum_two_double)\n",
    "\n",
    "# Concatenate and print the String variables on a new line\n",
    "# The 's' variable above should be printed first.\n",
    "concate_two_string = s + inputString\n",
    "print('Concated Stings is ', concate_two_string)\n"
   ]
  },
  {
   "cell_type": "markdown",
   "id": "251e3b42",
   "metadata": {},
   "source": [
    "# Day 2: Operators\n",
    "\n"
   ]
  },
  {
   "cell_type": "code",
   "execution_count": 12,
   "id": "623b5ee3",
   "metadata": {},
   "outputs": [
    {
     "name": "stdout",
     "output_type": "stream",
     "text": [
      "15\n",
      "5\n",
      "5\n",
      "16\n"
     ]
    }
   ],
   "source": [
    "#!/bin/python3\n",
    "\n",
    "import math\n",
    "import os\n",
    "import random\n",
    "import re\n",
    "import sys\n",
    "\n",
    "#\n",
    "# Complete the 'solve' function below.\n",
    "#\n",
    "# The function accepts following parameters:\n",
    "#  1. DOUBLE meal_cost\n",
    "#  2. INTEGER tip_percent\n",
    "#  3. INTEGER tax_percent\n",
    "#\n",
    "\n",
    "def solve(meal_cost, tip_percent, tax_percent):\n",
    "    \n",
    "    meal_cost = float(meal_cost)\n",
    "    tip_percent = int(tip_percent)\n",
    "    tax_percent = int(tax_percent)\n",
    "\n",
    "    tip=tip_percent*meal_cost/100\n",
    "    tax=tax_percent*meal_cost/100\n",
    "    totalcost=meal_cost+tip+tax\n",
    "    \n",
    "    return round(totalcost)\n",
    "\n",
    "if __name__ == '__main__':\n",
    "    meal_cost = float(input().strip())\n",
    "\n",
    "    tip_percent = int(input().strip())\n",
    "\n",
    "    tax_percent = int(input().strip())\n",
    "\n",
    "    print('Total cost is ',solve(meal_cost, tip_percent, tax_percent))\n"
   ]
  },
  {
   "cell_type": "markdown",
   "id": "b01bd23c",
   "metadata": {},
   "source": [
    "# Day 3: Intro to Conditional Statements\n",
    "\n",
    "\n",
    "Given an integer, , perform the following conditional actions:\n",
    "\n",
    "If  is odd, print Weird\n",
    "If  is even and in the inclusive range of  to , print Not Weird\n",
    "If  is even and in the inclusive range of  to , print Weird\n",
    "If  is even and greater than , print Not Weird"
   ]
  },
  {
   "cell_type": "code",
   "execution_count": 31,
   "id": "8646cb21",
   "metadata": {},
   "outputs": [
    {
     "name": "stdout",
     "output_type": "stream",
     "text": [
      "3\n",
      "Weird\n"
     ]
    }
   ],
   "source": [
    "#!/bin/python3\n",
    "\n",
    "import math\n",
    "import os\n",
    "import random\n",
    "import re\n",
    "import sys\n",
    "\n",
    "\n",
    "\n",
    "if __name__ == '__main__':\n",
    "    N = int(input().strip())\n",
    "    if N%2 !=0:\n",
    "        print('Weird')\n",
    "    elif N%2 ==0 and N in range(2,6):\n",
    "        print('Not Weird')\n",
    "    elif N%2 ==0 and N in range(6,21):\n",
    "        print('Weird')\n",
    "    elif N%2 ==0 and N>20:\n",
    "        print('Not Weird')\n",
    "        \n"
   ]
  },
  {
   "cell_type": "markdown",
   "id": "16a80bd1",
   "metadata": {},
   "source": [
    "# Day 4:Class vs. Instance"
   ]
  },
  {
   "cell_type": "code",
   "execution_count": 22,
   "id": "faf403c3",
   "metadata": {},
   "outputs": [
    {
     "name": "stdout",
     "output_type": "stream",
     "text": [
      "4\n",
      "-1\n",
      "Age is not valid, setting age to 0.\n",
      "You are young.\n",
      "You are young.\n",
      "\n",
      "10\n",
      "You are young.\n",
      "You are a teenager.\n",
      "\n",
      "16\n",
      "You are a teenager.\n",
      "You are old.\n",
      "\n",
      "18\n",
      "You are old.\n",
      "You are old.\n",
      "\n"
     ]
    }
   ],
   "source": [
    "class Person:\n",
    "    def __init__(self,initialAge):\n",
    "        if initialAge<0:\n",
    "            print(\"Age is not valid, setting age to 0.\")\n",
    "            self.initialAge=0\n",
    "        else:\n",
    "            self.initialAge=initialAge\n",
    "\n",
    "    def amIOld(self):\n",
    "        if self.initialAge<13:\n",
    "            print(\"You are young.\")\n",
    "        elif self.initialAge<18:\n",
    "            print(\"You are a teenager.\")\n",
    "        else:\n",
    "            print(\"You are old.\")\n",
    "\n",
    "    def yearPasses(self):\n",
    "        self.initialAge+=1\n",
    "\n",
    "\n",
    "t = int(input())\n",
    "for i in range(0, t):\n",
    "    age = int(input())         \n",
    "    p = Person(age)  \n",
    "    p.amIOld()\n",
    "    for j in range(0, 3):\n",
    "        p.yearPasses()       \n",
    "    p.amIOld()\n",
    "    print(\"\")"
   ]
  },
  {
   "cell_type": "markdown",
   "id": "44a2dafe",
   "metadata": {},
   "source": [
    "# Day 5:Loops"
   ]
  },
  {
   "cell_type": "code",
   "execution_count": 19,
   "id": "a36d7cce",
   "metadata": {},
   "outputs": [
    {
     "name": "stdout",
     "output_type": "stream",
     "text": [
      "2\n",
      "2 x 1 = 2\n",
      "2 x 2 = 4\n",
      "2 x 3 = 6\n",
      "2 x 4 = 8\n",
      "2 x 5 = 10\n",
      "2 x 6 = 12\n",
      "2 x 7 = 14\n",
      "2 x 8 = 16\n",
      "2 x 9 = 18\n",
      "2 x 10 = 20\n"
     ]
    }
   ],
   "source": [
    "#!/bin/python3\n",
    "\n",
    "import math\n",
    "import os\n",
    "import random\n",
    "import re\n",
    "import sys\n",
    "\n",
    "\n",
    "if __name__ == '__main__':\n",
    "    n = int(input().strip())\n",
    "    x = [print(\"{} x {} = {}\".format(n,i,n*i)) for i in range(1,11)]"
   ]
  },
  {
   "cell_type": "markdown",
   "id": "80ec8b65",
   "metadata": {},
   "source": [
    "# Day 6:Let's Review\n",
    "\n"
   ]
  },
  {
   "cell_type": "code",
   "execution_count": 20,
   "id": "8eb6e7e8",
   "metadata": {},
   "outputs": [
    {
     "name": "stdout",
     "output_type": "stream",
     "text": [
      "2\n",
      "Hacker\n",
      "Hce akr\n",
      "rank\n",
      "rn ak\n"
     ]
    }
   ],
   "source": [
    "def loopstring(s):\n",
    "    result_even = ''\n",
    "    result_odd = ''\n",
    "    for i in range(len(s)):\n",
    "        if i % 2 == 0:\n",
    "            result_even += s[i]\n",
    "        else:\n",
    "            result_odd += s[i]\n",
    "    print(result_even + ' ' + result_odd)\n",
    "\n",
    "if __name__ == '__main__':\n",
    "    for i in range(int(input())):\n",
    "        loopstring(input()) "
   ]
  },
  {
   "cell_type": "markdown",
   "id": "11b9ba37",
   "metadata": {},
   "source": [
    "# Day 7:Arrays"
   ]
  },
  {
   "cell_type": "code",
   "execution_count": 23,
   "id": "6f526d80",
   "metadata": {},
   "outputs": [
    {
     "name": "stdout",
     "output_type": "stream",
     "text": [
      "8\n",
      "6676 3216 4063 8373 423 586 8850 6762\n",
      "6762 8850 586 423 8373 4063 3216 6676\n"
     ]
    }
   ],
   "source": [
    "#!/bin/python3\n",
    "\n",
    "import math\n",
    "import os\n",
    "import random\n",
    "import re\n",
    "import sys\n",
    "\n",
    "\n",
    "\n",
    "if __name__ == '__main__':\n",
    "    n = int(input())\n",
    "    arr = list(map(int, input().rstrip().split()))\n",
    "    print(*reversed(arr))\n"
   ]
  },
  {
   "cell_type": "markdown",
   "id": "f8dc05b8",
   "metadata": {},
   "source": [
    "# Day 8: Dictionaries and Maps:\n",
    "\n"
   ]
  },
  {
   "cell_type": "code",
   "execution_count": 24,
   "id": "9cf91e4d",
   "metadata": {},
   "outputs": [
    {
     "name": "stdout",
     "output_type": "stream",
     "text": [
      "3\n",
      "sam 99912222\n",
      "tom 11122222\n",
      "harry 12299933\n",
      "sam\n",
      "sam=99912222\n",
      "edward\n",
      "Not found\n",
      "harry\n",
      "harry=12299933\n",
      "331\n",
      "Not found\n",
      "\n",
      "Not found\n"
     ]
    }
   ],
   "source": [
    "n = int(input())\n",
    "name_numbers = [input().split() for _ in range(n)]\n",
    "phone_book = {k: v for k,v in name_numbers}\n",
    "while True:\n",
    "    try:\n",
    "        name = input()\n",
    "        if name in phone_book:\n",
    "            print('%s=%s' % (name, phone_book[name]))\n",
    "        else:\n",
    "            print('Not found')\n",
    "    except:\n",
    "        break"
   ]
  },
  {
   "cell_type": "markdown",
   "id": "cb367367",
   "metadata": {},
   "source": [
    "# Day 9: Recursion 3\n",
    "\n"
   ]
  },
  {
   "cell_type": "code",
   "execution_count": 30,
   "id": "7ae0b2d9",
   "metadata": {},
   "outputs": [
    {
     "name": "stdout",
     "output_type": "stream",
     "text": [
      "5\n"
     ]
    }
   ],
   "source": [
    "#!/bin/python3\n",
    "\n",
    "import math\n",
    "import os\n",
    "import random\n",
    "import re\n",
    "import sys\n",
    "\n",
    "#\n",
    "# Complete the 'factorial' function below.\n",
    "#\n",
    "# The function is expected to return an INTEGER.\n",
    "# The function accepts INTEGER n as parameter.\n",
    "#\n",
    "\n",
    "\n",
    "def factorial(n):\n",
    "    return n * factorial(n-1) if n > 1 else 1\n",
    "\n",
    "    \n",
    "if __name__ == '__main__':\n",
    "    fptr = open('output_file.txt', 'w')\n",
    "\n",
    "    n = int(input().strip())\n",
    "\n",
    "    result = factorial(n)\n",
    "\n",
    "    fptr.write(str(result) + '\\n')\n",
    "\n",
    "    fptr.close()\n"
   ]
  },
  {
   "cell_type": "markdown",
   "id": "fbd666cc",
   "metadata": {},
   "source": [
    "# Day 10: Binary Numbers\n",
    "\n"
   ]
  },
  {
   "cell_type": "code",
   "execution_count": 29,
   "id": "ece5916d",
   "metadata": {},
   "outputs": [
    {
     "name": "stdout",
     "output_type": "stream",
     "text": [
      "5\n",
      "1\n"
     ]
    }
   ],
   "source": [
    "#!/bin/python3\n",
    "\n",
    "import math\n",
    "import os\n",
    "import random\n",
    "import re\n",
    "import sys\n",
    "\n",
    "\n",
    "\n",
    "if __name__ == '__main__':\n",
    "    n = int(input().strip())\n",
    "\n",
    "    count = 0\n",
    "    while n:\n",
    "        n &= n << 1\n",
    "        count += 1\n",
    "\n",
    "    print(count)"
   ]
  },
  {
   "cell_type": "markdown",
   "id": "8f868f4c",
   "metadata": {},
   "source": [
    "# Day 11:2D Arrays\n",
    "\n",
    " "
   ]
  },
  {
   "cell_type": "code",
   "execution_count": 2,
   "id": "a7b4cf83",
   "metadata": {},
   "outputs": [
    {
     "name": "stdout",
     "output_type": "stream",
     "text": [
      "1 1 1 0 0 0\n",
      "0 1 0 0 0 0\n",
      "1 1 1 0 0 0\n",
      "0 0 2 4 4 0\n",
      "0 0 0 2 0 0\n",
      "0 0 1 2 4 0\n",
      "19\n"
     ]
    }
   ],
   "source": [
    "#!/bin/python\n",
    "\n",
    "import sys\n",
    "\n",
    "\n",
    "arr = []\n",
    "for arr_i in range(6):\n",
    "   arr_temp = list(map(int,input().strip().split(' ')))\n",
    "   arr.append(arr_temp)\n",
    "max = 0\n",
    "\n",
    "for i in range(0,4):\n",
    "    for j in range(0,4):\n",
    "        sum = 0\n",
    "        sum= arr[i][j]+arr[i][j+1]+arr[i][j+2]+arr[i+1][j+1]+arr[i+2][j]+arr[i+2][j+1]+arr[i+2][j+2]\n",
    "        if i==0 and j==0:\n",
    "            max = sum\n",
    "        if sum > max:\n",
    "            max =sum\n",
    "\n",
    "print(max)"
   ]
  },
  {
   "cell_type": "markdown",
   "id": "aae97a78",
   "metadata": {},
   "source": [
    "# Day 12: Inheritance\n",
    "\n"
   ]
  },
  {
   "cell_type": "code",
   "execution_count": 2,
   "id": "77e1cbe0",
   "metadata": {},
   "outputs": [
    {
     "name": "stdout",
     "output_type": "stream",
     "text": [
      "Heraldo Memelli 8135627\n",
      "2\n",
      "100 80\n",
      "Name: Memelli, Heraldo\n",
      "ID: 8135627\n",
      "Grade: O\n"
     ]
    }
   ],
   "source": [
    "class Person:\n",
    "\tdef __init__(self, firstName, lastName, idNumber):\n",
    "\t\tself.firstName = firstName\n",
    "\t\tself.lastName = lastName\n",
    "\t\tself.idNumber = idNumber\n",
    "\tdef printPerson(self):\n",
    "\t\tprint(\"Name:\", self.lastName + \",\", self.firstName)\n",
    "\t\tprint(\"ID:\", self.idNumber)\n",
    "\n",
    "class Student(Person):\n",
    "    def __init__(self,firstName,lastName,idNum,scores):\n",
    "        self.firstName=firstName\n",
    "        self.lastName=lastName\n",
    "        self.idNumber=idNum\n",
    "        self.scores=scores\n",
    "\n",
    "    def calculate(self):\n",
    "        a=sum(self.scores)/len(self.scores)\n",
    "        if a >= 90:\n",
    "            return 'O'\n",
    "        elif 90>a>=80:\n",
    "            return 'E'\n",
    "        elif 80>a>=70:\n",
    "            return 'A'\n",
    "        elif 70>a>=55:\n",
    "            return 'P'\n",
    "        elif 55>a>=40:\n",
    "            return 'D'\n",
    "        else:\n",
    "            return 'T'\n",
    "        \n",
    "line = input().split()\n",
    "firstName = line[0]\n",
    "lastName = line[1]\n",
    "idNum = line[2]\n",
    "numScores = int(input()) # not needed for Python\n",
    "scores = list( map(int, input().split()) )\n",
    "s = Student(firstName, lastName, idNum, scores)\n",
    "s.printPerson()\n",
    "print(\"Grade:\", s.calculate())"
   ]
  },
  {
   "cell_type": "markdown",
   "id": "b4bc462f",
   "metadata": {},
   "source": [
    "# Day 13: Abstract Classes\n",
    "\n"
   ]
  },
  {
   "cell_type": "code",
   "execution_count": 4,
   "id": "46ba8ec9",
   "metadata": {},
   "outputs": [
    {
     "name": "stdout",
     "output_type": "stream",
     "text": [
      "The Alchemist\n",
      "Paulo Coelho\n",
      "248\n",
      "Title: The Alchemist\n",
      "Author: Paulo Coelho\n",
      "Price: 248\n"
     ]
    }
   ],
   "source": [
    "from abc import ABCMeta, abstractmethod\n",
    "class Book(object, metaclass=ABCMeta):\n",
    "    def __init__(self,title,author):\n",
    "        self.title=title\n",
    "        self.author=author   \n",
    "    @abstractmethod\n",
    "    def display(): pass\n",
    "\n",
    "class MyBook(Book):\n",
    "    price = 0\n",
    "    def __init__(self, title, author, price):\n",
    "        super(Book, self).__init__()\n",
    "        self.price = price \n",
    "\n",
    "    def display(self):\n",
    "        print(\"Title: \"+ title)\n",
    "        print(\"Author: \"+ author)\n",
    "        print(\"Price: \"+ str(price))\n",
    "\n",
    "title=input()\n",
    "author=input()\n",
    "price=int(input())\n",
    "new_novel=MyBook(title,author,price)\n",
    "new_novel.display()"
   ]
  },
  {
   "cell_type": "markdown",
   "id": "f8c0e52b",
   "metadata": {},
   "source": [
    "# Day 14: Scope"
   ]
  },
  {
   "cell_type": "code",
   "execution_count": 6,
   "id": "45274024",
   "metadata": {},
   "outputs": [
    {
     "name": "stdout",
     "output_type": "stream",
     "text": [
      "3\n",
      "1 2 4\n",
      "3\n"
     ]
    }
   ],
   "source": [
    "class Difference:\n",
    "    def __init__(self, a):\n",
    "        self.__elements = a\n",
    "\n",
    "        self.maximumDifference = 0\n",
    "     \n",
    "    def computeDifference(self):\n",
    "        self.maximumDifference = max(self.__elements) - min(self.__elements)\n",
    "# End of Difference class\n",
    "\n",
    "_ = input()\n",
    "a = [int(e) for e in input().split(' ')]\n",
    "\n",
    "d = Difference(a)\n",
    "d.computeDifference()\n",
    "\n",
    "print(d.maximumDifference)"
   ]
  },
  {
   "cell_type": "markdown",
   "id": "749e9f11",
   "metadata": {},
   "source": [
    "# Day 15: Linked List\n",
    "\n"
   ]
  },
  {
   "cell_type": "code",
   "execution_count": 5,
   "id": "d5a98df3",
   "metadata": {},
   "outputs": [
    {
     "name": "stdout",
     "output_type": "stream",
     "text": [
      "4\n",
      "2\n",
      "3\n",
      "4\n",
      "1\n",
      "2 3 4 1 "
     ]
    }
   ],
   "source": [
    "class Node:\n",
    "    def __init__(self,data):\n",
    "        self.data = data\n",
    "        self.next = None \n",
    "class Solution: \n",
    "    def display(self,head):\n",
    "        current = head\n",
    "        while current:\n",
    "            print(current.data,end=' ')\n",
    "            current = current.next\n",
    "\n",
    "    def insert(self, head, data):\n",
    "        new = Node(data)\n",
    "        if head:\n",
    "            tail = head\n",
    "            while tail.next:\n",
    "                tail = tail.next\n",
    "            tail.next = new\n",
    "            return head\n",
    "        else:\n",
    "            return new\n",
    "\n",
    "mylist= Solution()\n",
    "T=int(input())\n",
    "head=None\n",
    "for i in range(T):\n",
    "    data=int(input())\n",
    "    head=mylist.insert(head,data)    \n",
    "mylist.display(head); \t  "
   ]
  },
  {
   "cell_type": "markdown",
   "id": "2961c325",
   "metadata": {},
   "source": [
    "# Day 16: Exceptions - String to Integer\n",
    "\n"
   ]
  },
  {
   "cell_type": "code",
   "execution_count": 6,
   "id": "fdd0b164",
   "metadata": {},
   "outputs": [
    {
     "name": "stdout",
     "output_type": "stream",
     "text": [
      "3\n",
      "3\n"
     ]
    }
   ],
   "source": [
    "#!/bin/python3\n",
    "\n",
    "import sys\n",
    "\n",
    "\n",
    "S = input().strip()\n",
    "try:\n",
    "    print(int(S))\n",
    "except ValueError:\n",
    "    print('Bad String')"
   ]
  },
  {
   "cell_type": "markdown",
   "id": "d6f81d29",
   "metadata": {},
   "source": [
    "# Day 17: More Exceptions\n",
    "\n"
   ]
  },
  {
   "cell_type": "code",
   "execution_count": 8,
   "id": "ab530f55",
   "metadata": {},
   "outputs": [
    {
     "name": "stdout",
     "output_type": "stream",
     "text": [
      "4\n",
      "3 5 \n",
      "243\n",
      "2 4\n",
      "16\n",
      "-1 -2\n",
      "n and p should be non-negative\n",
      "-1 3\n",
      "n and p should be non-negative\n"
     ]
    }
   ],
   "source": [
    "class Calculator(object):\n",
    "    def __init__(self):\n",
    "                 self.object = object\n",
    "    def power(self, a,b):\n",
    "                 self.a = a\n",
    "                 self.b = b\n",
    "                 if self.a>=0 and self.b >=0:\n",
    "                    return (a**b)\n",
    "                 else:\n",
    "                    e = \"n and p should be non-negative\"\n",
    "                    return e\n",
    "                \n",
    "                    \n",
    "myCalculator=Calculator()\n",
    "T=int(input())\n",
    "for i in range(T):\n",
    "    n,p = map(int, input().split())\n",
    "    try:\n",
    "        ans=myCalculator.power(n,p)\n",
    "        print(ans)\n",
    "    except Exception as e:\n",
    "        print(e)   "
   ]
  },
  {
   "cell_type": "markdown",
   "id": "c68d39f8",
   "metadata": {},
   "source": [
    "# Day 18: Queues and Stacks\n",
    "\n"
   ]
  },
  {
   "cell_type": "code",
   "execution_count": 9,
   "id": "1a5d1ba0",
   "metadata": {},
   "outputs": [
    {
     "name": "stdout",
     "output_type": "stream",
     "text": [
      "racecar\n",
      "The word, racecar, is a palindrome.\n"
     ]
    }
   ],
   "source": [
    "import sys\n",
    "\n",
    "class Solution:\n",
    "      def __init__(self):\n",
    "          self.mystack = list()\n",
    "          self.myqueue = list()\n",
    "          return(None)\n",
    "\n",
    "      def pushCharacter(self, char):\n",
    "          self.mystack.append(char)\n",
    "\n",
    "      def popCharacter(self):\n",
    "          return(self.mystack.pop(-1))\n",
    "\n",
    "      def enqueueCharacter(self, char):\n",
    "          self.myqueue.append(char)\n",
    "\n",
    "      def dequeueCharacter(self):\n",
    "          return(self.myqueue.pop(0))\n",
    "# read the string s\n",
    "s=input()\n",
    "#Create the Solution class object\n",
    "obj=Solution()   \n",
    "\n",
    "l=len(s)\n",
    "# push/enqueue all the characters of string s to stack\n",
    "for i in range(l):\n",
    "    obj.pushCharacter(s[i])\n",
    "    obj.enqueueCharacter(s[i])\n",
    "    \n",
    "isPalindrome=True\n",
    "'''\n",
    "pop the top character from stack\n",
    "dequeue the first character from queue\n",
    "compare both the characters\n",
    "''' \n",
    "for i in range(l // 2):\n",
    "    if obj.popCharacter()!=obj.dequeueCharacter():\n",
    "        isPalindrome=False\n",
    "        break\n",
    "#finally print whether string s is palindrome or not.\n",
    "if isPalindrome:\n",
    "    print(\"The word, \"+s+\", is a palindrome.\")\n",
    "else:\n",
    "    print(\"The word, \"+s+\", is not a palindrome.\")    "
   ]
  },
  {
   "cell_type": "markdown",
   "id": "18ffb0fa",
   "metadata": {},
   "source": [
    "# Day 19: Interfaces\n",
    "\n"
   ]
  },
  {
   "cell_type": "code",
   "execution_count": 10,
   "id": "f4bf787a",
   "metadata": {},
   "outputs": [
    {
     "name": "stdout",
     "output_type": "stream",
     "text": [
      "6\n",
      "I implemented: AdvancedArithmetic\n",
      "12\n"
     ]
    }
   ],
   "source": [
    "class AdvancedArithmetic(object):\n",
    "    def divisorSum(n):\n",
    "        raise NotImplementedError\n",
    "\n",
    "class Calculator(AdvancedArithmetic):\n",
    "    \n",
    "    def divisorSum(self, n):\n",
    "            if n == 1:\n",
    "                return 1\n",
    "            else:\n",
    "                factor_sum = 1 + n \n",
    "                for i in range(2, n//2 + 1):\n",
    "                    if n % i == 0:\n",
    "                        factor_sum += i\n",
    "                return factor_sum\n",
    "\n",
    "n = int(input())\n",
    "my_calculator = Calculator()\n",
    "s = my_calculator.divisorSum(n)\n",
    "print(\"I implemented: \" + type(my_calculator).__bases__[0].__name__)\n",
    "print(s)"
   ]
  },
  {
   "cell_type": "markdown",
   "id": "b809c6a8",
   "metadata": {},
   "source": [
    "# Day 20: Sorting\n",
    "\n"
   ]
  },
  {
   "cell_type": "code",
   "execution_count": 14,
   "id": "626a7d72",
   "metadata": {},
   "outputs": [
    {
     "name": "stdout",
     "output_type": "stream",
     "text": [
      "3 \n",
      "4 21 1\n",
      "Array is sorted in 2 swaps.\n",
      "First Element: 1\n",
      "Last Element: 21\n"
     ]
    }
   ],
   "source": [
    "#!/bin/python3\n",
    "\n",
    "import sys\n",
    "\n",
    "n = int(input().strip())\n",
    "a = list(map(int, input().strip().split(' ')))\n",
    "# Write Your Code Here\n",
    "\n",
    "swaps = 0\n",
    "is_sorted = False\n",
    "\n",
    "while not is_sorted:\n",
    "    is_sorted = True\n",
    "    i = 0\n",
    "    for i in range(0, len(a)):\n",
    "        if i < len(a) - 1:\n",
    "            if a[i] > a[i+1]:\n",
    "                a[i], a[i+1] = a[i+1], a[i]\n",
    "                is_sorted = False\n",
    "                swaps += 1\n",
    "\n",
    "print('Array is sorted in {} swaps.'.format(swaps))\n",
    "print('First Element: {}'.format(a[0]))\n",
    "print('Last Element: {}'.format(a[len(a)-1]))"
   ]
  },
  {
   "cell_type": "markdown",
   "id": "ba8aa05e",
   "metadata": {},
   "source": [
    "# Day 21: Generics\n",
    "\n"
   ]
  },
  {
   "cell_type": "code",
   "execution_count": null,
   "id": "e520f83c",
   "metadata": {},
   "outputs": [],
   "source": [
    "# Example 1 :"
   ]
  },
  {
   "cell_type": "code",
   "execution_count": 7,
   "id": "7f827b3d",
   "metadata": {},
   "outputs": [],
   "source": [
    "from typing import TypeVar, Generic\n",
    "from logging import Logger\n",
    "\n",
    "T = TypeVar('T')\n",
    "\n",
    "class LoggedVar(Generic[T]):\n",
    "    def __init__(self, value: T, name: str, logger: Logger) -> None:\n",
    "        self.name = name\n",
    "        self.logger = logger\n",
    "        self.value = value\n",
    "\n",
    "    def set(self, new: T) -> None:\n",
    "        self.log('Set ' + repr(self.value))\n",
    "        self.value = new\n",
    "\n",
    "    def get(self) -> T:\n",
    "        self.log('Get ' + repr(self.value))\n",
    "        return self.value\n",
    "\n",
    "    def log(self, message: str) -> None:\n",
    "        self.logger.info('%s: %s', self.name, message)\n",
    "        "
   ]
  },
  {
   "cell_type": "code",
   "execution_count": null,
   "id": "ee41e3dc",
   "metadata": {},
   "outputs": [],
   "source": [
    "# Example 2:"
   ]
  },
  {
   "cell_type": "code",
   "execution_count": 8,
   "id": "a3c768f9",
   "metadata": {},
   "outputs": [],
   "source": [
    "from typing import TypeVar, Iterable, Tuple, Union\n",
    "S = TypeVar('S')\n",
    "Response = Union[Iterable[S], int]\n",
    "\n",
    "# Return type here is same as Union[Iterable[str], int]\n",
    "def response(query: str) -> Response[str]:\n",
    "    ...\n",
    "\n",
    "T = TypeVar('T', int, float, complex)\n",
    "Vec = Iterable[Tuple[T, T]]\n",
    "\n",
    "def inproduct(v: Vec[T]) -> T: # Same as Iterable[Tuple[T, T]]\n",
    "    return sum(x*y for x, y in v)"
   ]
  },
  {
   "cell_type": "markdown",
   "id": "467a2dad",
   "metadata": {},
   "source": [
    "# Day 22: Binary Search Trees\n",
    "\n",
    " "
   ]
  },
  {
   "cell_type": "code",
   "execution_count": 16,
   "id": "90d8aa6f",
   "metadata": {},
   "outputs": [
    {
     "name": "stdout",
     "output_type": "stream",
     "text": [
      "7\n",
      "3\n",
      "5\n",
      "2\n",
      "1\n",
      "4\n",
      "6\n",
      "7\n",
      "3\n"
     ]
    }
   ],
   "source": [
    "class Node:\n",
    "    def __init__(self,data):\n",
    "        self.right=self.left=None\n",
    "        self.data = data\n",
    "class Solution:\n",
    "    def insert(self,root,data):\n",
    "        if root==None:\n",
    "            return Node(data)\n",
    "        else:\n",
    "            if data<=root.data:\n",
    "                cur=self.insert(root.left,data)\n",
    "                root.left=cur\n",
    "            else:\n",
    "                cur=self.insert(root.right,data)\n",
    "                root.right=cur\n",
    "        return root\n",
    "\n",
    "    def getHeight(self,root):\n",
    "        #Write your code here\n",
    "        if root == None or root.left == root.right == None:\n",
    "            return 0 \n",
    "        else:\n",
    "            return 1+ max(self.getHeight(root.left),\n",
    "                           self.getHeight(root.right))\n",
    "        \n",
    "T=int(input())\n",
    "myTree=Solution()\n",
    "root=None\n",
    "for i in range(T):\n",
    "    data=int(input())\n",
    "    root=myTree.insert(root,data)\n",
    "height=myTree.getHeight(root)\n",
    "print(height)       "
   ]
  },
  {
   "cell_type": "markdown",
   "id": "9dbc78dd",
   "metadata": {},
   "source": [
    "# Day 23: BST Level-Order Traversal\n",
    "\n"
   ]
  },
  {
   "cell_type": "code",
   "execution_count": 18,
   "id": "7da7c5aa",
   "metadata": {},
   "outputs": [
    {
     "name": "stdout",
     "output_type": "stream",
     "text": [
      "6\n",
      "3\n",
      "5\n",
      "4\n",
      "2\n",
      "7\n",
      "1\n",
      "3 2 5 1 4 7 "
     ]
    }
   ],
   "source": [
    "import sys\n",
    "\n",
    "class Node:\n",
    "    def __init__(self,data):\n",
    "        self.right=self.left=None\n",
    "        self.data = data\n",
    "class Solution:\n",
    "    def insert(self,root,data):\n",
    "        if root==None:\n",
    "            return Node(data)\n",
    "        else:\n",
    "            if data<=root.data:\n",
    "                cur=self.insert(root.left,data)\n",
    "                root.left=cur\n",
    "            else:\n",
    "                cur=self.insert(root.right,data)\n",
    "                root.right=cur\n",
    "        return root\n",
    "\n",
    "    def levelOrder(self,root):\n",
    "        queue = [root] if root else []\n",
    "    \n",
    "        while queue:\n",
    "            node = queue.pop()\n",
    "            print(node.data, end=\" \")\n",
    "            \n",
    "            if node.left: queue.insert(0,node.left)\n",
    "            if node.right: queue.insert(0,node.right)\n",
    "            \n",
    "T=int(input())\n",
    "myTree=Solution()\n",
    "root=None\n",
    "for i in range(T):\n",
    "    data=int(input())\n",
    "    root=myTree.insert(root,data)\n",
    "myTree.levelOrder(root)\n",
    "\n"
   ]
  },
  {
   "cell_type": "markdown",
   "id": "4610b21c",
   "metadata": {},
   "source": [
    "# Day 24: More Linked Lists\n",
    "\n"
   ]
  },
  {
   "cell_type": "code",
   "execution_count": 20,
   "id": "6da95bf9",
   "metadata": {},
   "outputs": [
    {
     "name": "stdout",
     "output_type": "stream",
     "text": [
      "6\n",
      "1\n",
      "2\n",
      "2\n",
      "3\n",
      "3\n",
      "4\n",
      "1 2 3 4 "
     ]
    }
   ],
   "source": [
    "class Node:\n",
    "    def __init__(self,data):\n",
    "        self.data = data\n",
    "        self.next = None \n",
    "class Solution: \n",
    "    def insert(self,head,data):\n",
    "            p = Node(data)           \n",
    "            if head==None:\n",
    "                head=p\n",
    "            elif head.next==None:\n",
    "                head.next=p\n",
    "            else:\n",
    "                start=head\n",
    "                while(start.next!=None):\n",
    "                    start=start.next\n",
    "                start.next=p\n",
    "            return head  \n",
    "    def display(self,head):\n",
    "        current = head\n",
    "        while current:\n",
    "            print(current.data,end=' ')\n",
    "            current = current.next\n",
    "\n",
    "    def removeDuplicates(self,head):\n",
    "        if head == None:\n",
    "            return head\n",
    "        fptr = head.next\n",
    "        sptr = head\n",
    "        ha = {}\n",
    "        while fptr != None:\n",
    "            if sptr.data not in ha:\n",
    "                ha[sptr.data] = True\n",
    "            if fptr.data in ha:\n",
    "                sptr.next = fptr.next\n",
    "                fptr = fptr.next\n",
    "                continue\n",
    "            sptr = fptr\n",
    "            fptr = fptr.next\n",
    "\n",
    "        return head\n",
    "\n",
    "mylist= Solution()\n",
    "T=int(input())\n",
    "head=None\n",
    "for i in range(T):\n",
    "    data=int(input())\n",
    "    head=mylist.insert(head,data)    \n",
    "head=mylist.removeDuplicates(head)\n",
    "mylist.display(head); "
   ]
  },
  {
   "cell_type": "markdown",
   "id": "ed9f8aff",
   "metadata": {},
   "source": [
    "# Day 25: Running Time and Complexity\n",
    "\n"
   ]
  },
  {
   "cell_type": "code",
   "execution_count": 22,
   "id": "1976c7f6",
   "metadata": {},
   "outputs": [
    {
     "name": "stdout",
     "output_type": "stream",
     "text": [
      "3\n",
      "12\n",
      "Not prime\n",
      "5\n",
      "Prime\n",
      "7\n",
      "Prime\n"
     ]
    }
   ],
   "source": [
    "for _ in range(int(input())):\n",
    "    num = int(input())\n",
    "    if(num == 1):\n",
    "        print(\"Not prime\")\n",
    "    else:\n",
    "        if(num % 2 == 0 and num > 2):\n",
    "            print(\"Not prime\")\n",
    "        else:\n",
    "            for i in range(3, int(num**(1/2))+1, 2):\n",
    "                if num % i == 0:\n",
    "                    print(\"Not prime\")\n",
    "                    break\n",
    "            else:\n",
    "                print(\"Prime\")"
   ]
  },
  {
   "cell_type": "markdown",
   "id": "1408142c",
   "metadata": {},
   "source": [
    "# Day 26: Nested Logic\n",
    "\n"
   ]
  },
  {
   "cell_type": "code",
   "execution_count": 23,
   "id": "2952daac",
   "metadata": {},
   "outputs": [
    {
     "name": "stdout",
     "output_type": "stream",
     "text": [
      "31 8 2004\n",
      "20 1 2004\n",
      "3500\n"
     ]
    }
   ],
   "source": [
    "rd, rm, ry = [int(x) for x in input().split(' ')]\n",
    "ed, em, ey = [int(x) for x in input().split(' ')]\n",
    "\n",
    "if (ry, rm, rd) <= (ey, em, ed):\n",
    "    print(0)\n",
    "elif (ry, rm) == (ey, em):\n",
    "    print(15 * (rd - ed))\n",
    "elif ry == ey:\n",
    "    print(500 * (rm - em))\n",
    "else:\n",
    "    print(10000)"
   ]
  },
  {
   "cell_type": "markdown",
   "id": "8c49ec38",
   "metadata": {},
   "source": [
    "# Day 27: Testing\n",
    "\n"
   ]
  },
  {
   "cell_type": "code",
   "execution_count": 1,
   "id": "248fe5f6",
   "metadata": {},
   "outputs": [
    {
     "name": "stdout",
     "output_type": "stream",
     "text": [
      "OK\n"
     ]
    }
   ],
   "source": [
    "def minimum_index(seq):\n",
    "    if len(seq) == 0:\n",
    "        raise ValueError(\"Cannot get the minimum value index from an empty sequence\")\n",
    "    min_idx = 0\n",
    "    for i in range(1, len(seq)):\n",
    "        if seq[i] < seq[min_idx]:\n",
    "            min_idx = i\n",
    "    return min_idx\n",
    "\n",
    "def minimum_index(seq):\n",
    "    if len(seq) == 0:\n",
    "        raise ValueError(\"Cannot get the minimum value index from an empty sequence\")\n",
    "    min_idx = 0\n",
    "    for i in range(1, len(seq)):\n",
    "        if seq[i] < seq[min_idx]:\n",
    "            min_idx = i\n",
    "    return min_idx\n",
    "\n",
    "class TestDataEmptyArray(object):\n",
    "    \n",
    "    @staticmethod\n",
    "    def get_array():\n",
    "        return []\n",
    "\n",
    "class TestDataUniqueValues(object):\n",
    "\n",
    "    @staticmethod\n",
    "    def get_array():\n",
    "        return [7, 4, 3, 8, 14]\n",
    "\n",
    "    @staticmethod\n",
    "    def get_expected_result():\n",
    "        return 2\n",
    "\n",
    "class TestDataExactlyTwoDifferentMinimums(object):\n",
    "\n",
    "    @staticmethod\n",
    "    def get_array():\n",
    "        return [7, 4, 3, 8, 3, 14]\n",
    "\n",
    "    @staticmethod\n",
    "    def get_expected_result():\n",
    "        return 2\n",
    "\n",
    "def TestWithEmptyArray():\n",
    "    try:\n",
    "        seq = TestDataEmptyArray.get_array()\n",
    "        result = minimum_index(seq)\n",
    "    except ValueError as e:\n",
    "        pass\n",
    "    else:\n",
    "        assert False\n",
    "\n",
    "\n",
    "def TestWithUniqueValues():\n",
    "    seq = TestDataUniqueValues.get_array()\n",
    "    assert len(seq) >= 2\n",
    "\n",
    "    assert len(list(set(seq))) == len(seq)\n",
    "\n",
    "    expected_result = TestDataUniqueValues.get_expected_result()\n",
    "    result = minimum_index(seq)\n",
    "    assert result == expected_result\n",
    "\n",
    "\n",
    "def TestiWithExactyTwoDifferentMinimums():\n",
    "    seq = TestDataExactlyTwoDifferentMinimums.get_array()\n",
    "    assert len(seq) >= 2\n",
    "    tmp = sorted(seq)\n",
    "    assert tmp[0] == tmp[1] and (len(tmp) == 2 or tmp[1] < tmp[2])\n",
    "\n",
    "    expected_result = TestDataExactlyTwoDifferentMinimums.get_expected_result()\n",
    "    result = minimum_index(seq)\n",
    "    assert result == expected_result\n",
    "\n",
    "TestWithEmptyArray()\n",
    "TestWithUniqueValues()\n",
    "TestiWithExactyTwoDifferentMinimums()\n",
    "print(\"OK\")\n",
    "\n"
   ]
  },
  {
   "cell_type": "markdown",
   "id": "282c74b7",
   "metadata": {},
   "source": [
    "# Day 28: RegEx, Patterns, and Intro to Databases\n",
    "\n"
   ]
  },
  {
   "cell_type": "code",
   "execution_count": 24,
   "id": "79585279",
   "metadata": {},
   "outputs": [
    {
     "name": "stdout",
     "output_type": "stream",
     "text": [
      "6\n",
      "riya riya@gmail.com\n",
      "julia julia@julia.me\n",
      "julia sjulia@gmail.com\n",
      "julia julia@gmail.com\n",
      "samantha samantha@gmail.com\n",
      "tanya tanya@gmail.com\n",
      "julia\n",
      "julia\n",
      "riya\n",
      "samantha\n",
      "tanya\n"
     ]
    }
   ],
   "source": [
    "import sys\n",
    "import re\n",
    "\n",
    "\n",
    "N = int(input().strip())\n",
    "list =[]\n",
    "for a0 in range(N):\n",
    "    firstName,emailID = input().strip().split(' ')\n",
    "    firstName,emailID = [str(firstName),str(emailID)]\n",
    "    if re.search(\"@gmail.com\",emailID):\n",
    "        list.append(firstName)\n",
    "           \n",
    "list2 = (sorted(list))\n",
    "for elem in list2:\n",
    "    print (elem)"
   ]
  },
  {
   "cell_type": "markdown",
   "id": "5c533471",
   "metadata": {},
   "source": [
    "# Day 29: Bitwise AND\n",
    "\n"
   ]
  },
  {
   "cell_type": "code",
   "execution_count": 25,
   "id": "45768297",
   "metadata": {},
   "outputs": [
    {
     "name": "stdout",
     "output_type": "stream",
     "text": [
      "3 \n",
      "5 2 \n",
      "1\n",
      "8 5\n",
      "4\n",
      "2 2\n",
      "0\n"
     ]
    }
   ],
   "source": [
    "#!/bin/python3\n",
    "\n",
    "import math\n",
    "import os\n",
    "import random\n",
    "import re\n",
    "import sys\n",
    "\n",
    "#\n",
    "# Complete the 'bitwiseAnd' function below.\n",
    "#\n",
    "# The function is expected to return an INTEGER.\n",
    "# The function accepts following parameters:\n",
    "#  1. INTEGER N\n",
    "#  2. INTEGER K\n",
    "#\n",
    "\n",
    "def FindMaxAB(n, k):\n",
    "    max_ab = 0\n",
    "    for i in range(k - 2, n):\n",
    "        for j in range(i + 1, n + 1):\n",
    "            ab = i & j\n",
    "            if ab == k - 1:\n",
    "                return ab\n",
    "            if max_ab < ab < k:\n",
    "                max_ab = ab\n",
    "    return max_ab\n",
    "\n",
    "\n",
    "for i in range(int(input().strip())):\n",
    "    n, k = map(int, input().split())\n",
    "    print(FindMaxAB(n, k))\n"
   ]
  },
  {
   "cell_type": "code",
   "execution_count": null,
   "id": "8973f661",
   "metadata": {},
   "outputs": [],
   "source": [
    "21"
   ]
  }
 ],
 "metadata": {
  "kernelspec": {
   "display_name": "Python 3",
   "language": "python",
   "name": "python3"
  },
  "language_info": {
   "codemirror_mode": {
    "name": "ipython",
    "version": 3
   },
   "file_extension": ".py",
   "mimetype": "text/x-python",
   "name": "python",
   "nbconvert_exporter": "python",
   "pygments_lexer": "ipython3",
   "version": "3.8.8"
  }
 },
 "nbformat": 4,
 "nbformat_minor": 5
}
