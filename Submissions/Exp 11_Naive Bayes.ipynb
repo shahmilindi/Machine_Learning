{
 "cells": [
  {
   "cell_type": "markdown",
   "metadata": {},
   "source": [
    "# Naive Bayes from scratch\n",
    "# Milindi Shah\n",
    "# J057\n"
   ]
  },
  {
   "cell_type": "code",
   "execution_count": 1,
   "metadata": {},
   "outputs": [],
   "source": [
    "import pandas as pd \n",
    "from sklearn.datasets import load_iris \n",
    "import warnings\n",
    "import numpy as np\n",
    "warnings.simplefilter(action='ignore')"
   ]
  },
  {
   "cell_type": "code",
   "execution_count": 2,
   "metadata": {},
   "outputs": [],
   "source": [
    "iris = load_iris()\n",
    "X = iris['data']\n",
    "y = iris['target']\n",
    "cols = iris['feature_names']\n",
    "classes = iris['target_names']"
   ]
  },
  {
   "cell_type": "code",
   "execution_count": 3,
   "metadata": {},
   "outputs": [],
   "source": [
    "iris = pd.DataFrame(X, columns=cols)\n",
    "iris['target'] = y\n",
    "iris['target'] = iris['target'].map(dict(zip(iris['target'].unique(), classes)))"
   ]
  },
  {
   "cell_type": "code",
   "execution_count": 4,
   "metadata": {},
   "outputs": [
    {
     "data": {
      "text/plain": [
       "{'setosa': 0.3333333333333333,\n",
       " 'versicolor': 0.3333333333333333,\n",
       " 'virginica': 0.3333333333333333}"
      ]
     },
     "execution_count": 4,
     "metadata": {},
     "output_type": "execute_result"
    }
   ],
   "source": [
    "prob_classes = {}\n",
    "for unique_class in classes:\n",
    "    prob_classes[unique_class] = None\n",
    "    for key in prob_classes.keys():\n",
    "        prob_classes[key] = iris[iris['target'] == unique_class].shape[0]/iris.shape[0]\n",
    "\n",
    "prob_classes"
   ]
  },
  {
   "cell_type": "code",
   "execution_count": 5,
   "metadata": {},
   "outputs": [
    {
     "data": {
      "text/plain": [
       "{'setosa': {'mean': {'sepal length (cm)': 5.005999999999999,\n",
       "   'sepal width (cm)': 3.428000000000001,\n",
       "   'petal length (cm)': 1.4620000000000002,\n",
       "   'petal width (cm)': 0.2459999999999999},\n",
       "  'std_dev': {'sepal length (cm)': 0.35248968721345136,\n",
       "   'sepal width (cm)': 0.3790643690962887,\n",
       "   'petal length (cm)': 0.17366399648018407,\n",
       "   'petal width (cm)': 0.10538558938004565}},\n",
       " 'versicolor': {'mean': {'sepal length (cm)': 5.936,\n",
       "   'sepal width (cm)': 2.7700000000000005,\n",
       "   'petal length (cm)': 4.26,\n",
       "   'petal width (cm)': 1.3259999999999998},\n",
       "  'std_dev': {'sepal length (cm)': 0.5161711470638634,\n",
       "   'sepal width (cm)': 0.3137983233784114,\n",
       "   'petal length (cm)': 0.46991097723995795,\n",
       "   'petal width (cm)': 0.19775268000454405}},\n",
       " 'virginica': {'mean': {'sepal length (cm)': 6.587999999999998,\n",
       "   'sepal width (cm)': 2.9739999999999998,\n",
       "   'petal length (cm)': 5.552,\n",
       "   'petal width (cm)': 2.026},\n",
       "  'std_dev': {'sepal length (cm)': 0.6358795932744322,\n",
       "   'sepal width (cm)': 0.32249663817263746,\n",
       "   'petal length (cm)': 0.5518946956639834,\n",
       "   'petal width (cm)': 0.2746500556366674}}}"
      ]
     },
     "execution_count": 5,
     "metadata": {},
     "output_type": "execute_result"
    }
   ],
   "source": [
    "data = {}\n",
    "for c in classes:\n",
    "    data[c] = {}\n",
    "    data[c]['mean'] = {}\n",
    "    data[c]['std_dev'] = {}\n",
    "    for col in iris.columns[:4]:\n",
    "        data[c]['mean'][col] = iris[iris['target'] == c].mean()[col]\n",
    "        data[c]['std_dev'][col] = iris[iris['target'] == c].std()[col]\n",
    "data"
   ]
  },
  {
   "cell_type": "code",
   "execution_count": 6,
   "metadata": {},
   "outputs": [
    {
     "data": {
      "text/html": [
       "<div>\n",
       "<style scoped>\n",
       "    .dataframe tbody tr th:only-of-type {\n",
       "        vertical-align: middle;\n",
       "    }\n",
       "\n",
       "    .dataframe tbody tr th {\n",
       "        vertical-align: top;\n",
       "    }\n",
       "\n",
       "    .dataframe thead th {\n",
       "        text-align: right;\n",
       "    }\n",
       "</style>\n",
       "<table border=\"1\" class=\"dataframe\">\n",
       "  <thead>\n",
       "    <tr style=\"text-align: right;\">\n",
       "      <th></th>\n",
       "      <th>setosa</th>\n",
       "      <th>versicolor</th>\n",
       "      <th>virginica</th>\n",
       "    </tr>\n",
       "  </thead>\n",
       "  <tbody>\n",
       "    <tr>\n",
       "      <th>0</th>\n",
       "      <td>2.791534</td>\n",
       "      <td>0.0</td>\n",
       "      <td>0.0</td>\n",
       "    </tr>\n",
       "    <tr>\n",
       "      <th>1</th>\n",
       "      <td>1.488164</td>\n",
       "      <td>0.0</td>\n",
       "      <td>0.0</td>\n",
       "    </tr>\n",
       "    <tr>\n",
       "      <th>2</th>\n",
       "      <td>1.163145</td>\n",
       "      <td>0.0</td>\n",
       "      <td>0.0</td>\n",
       "    </tr>\n",
       "    <tr>\n",
       "      <th>3</th>\n",
       "      <td>1.085765</td>\n",
       "      <td>0.0</td>\n",
       "      <td>0.0</td>\n",
       "    </tr>\n",
       "    <tr>\n",
       "      <th>4</th>\n",
       "      <td>2.656738</td>\n",
       "      <td>0.0</td>\n",
       "      <td>0.0</td>\n",
       "    </tr>\n",
       "    <tr>\n",
       "      <th>...</th>\n",
       "      <td>...</td>\n",
       "      <td>...</td>\n",
       "      <td>...</td>\n",
       "    </tr>\n",
       "    <tr>\n",
       "      <th>145</th>\n",
       "      <td>0.0</td>\n",
       "      <td>0.0</td>\n",
       "      <td>0.132245</td>\n",
       "    </tr>\n",
       "    <tr>\n",
       "      <th>146</th>\n",
       "      <td>0.0</td>\n",
       "      <td>0.001295</td>\n",
       "      <td>0.045437</td>\n",
       "    </tr>\n",
       "    <tr>\n",
       "      <th>147</th>\n",
       "      <td>0.0</td>\n",
       "      <td>0.000096</td>\n",
       "      <td>0.217838</td>\n",
       "    </tr>\n",
       "    <tr>\n",
       "      <th>148</th>\n",
       "      <td>0.0</td>\n",
       "      <td>0.0</td>\n",
       "      <td>0.055163</td>\n",
       "    </tr>\n",
       "    <tr>\n",
       "      <th>149</th>\n",
       "      <td>0.0</td>\n",
       "      <td>0.004895</td>\n",
       "      <td>0.076857</td>\n",
       "    </tr>\n",
       "  </tbody>\n",
       "</table>\n",
       "<p>150 rows × 3 columns</p>\n",
       "</div>"
      ],
      "text/plain": [
       "       setosa versicolor virginica\n",
       "0    2.791534        0.0       0.0\n",
       "1    1.488164        0.0       0.0\n",
       "2    1.163145        0.0       0.0\n",
       "3    1.085765        0.0       0.0\n",
       "4    2.656738        0.0       0.0\n",
       "..        ...        ...       ...\n",
       "145       0.0        0.0  0.132245\n",
       "146       0.0   0.001295  0.045437\n",
       "147       0.0   0.000096  0.217838\n",
       "148       0.0        0.0  0.055163\n",
       "149       0.0   0.004895  0.076857\n",
       "\n",
       "[150 rows x 3 columns]"
      ]
     },
     "execution_count": 6,
     "metadata": {},
     "output_type": "execute_result"
    }
   ],
   "source": [
    "prediction = pd.DataFrame(columns=classes, index=range(0, iris.shape[0],1))\n",
    "\n",
    "for c in classes:\n",
    "    for idx, r in iris.iterrows():\n",
    "        prob = prob_classes[c]\n",
    "        for col in iris.columns[:4]:\n",
    "            t1 = 1/(data[c]['std_dev'][col]*((2*np.pi)**0.5))\n",
    "            a=((-((iris.loc[idx,col]-data[c][\"mean\"][col])**2)))\n",
    "            b = (2*(data[c][\"std_dev\"][col]**2))\n",
    "            t2 = np.exp(a/b)\n",
    "            prob = prob*t1*t2\n",
    "        prediction.loc[idx,c] = prob\n",
    "prediction"
   ]
  },
  {
   "cell_type": "code",
   "execution_count": 7,
   "metadata": {},
   "outputs": [
    {
     "data": {
      "text/html": [
       "<div>\n",
       "<style scoped>\n",
       "    .dataframe tbody tr th:only-of-type {\n",
       "        vertical-align: middle;\n",
       "    }\n",
       "\n",
       "    .dataframe tbody tr th {\n",
       "        vertical-align: top;\n",
       "    }\n",
       "\n",
       "    .dataframe thead th {\n",
       "        text-align: right;\n",
       "    }\n",
       "</style>\n",
       "<table border=\"1\" class=\"dataframe\">\n",
       "  <thead>\n",
       "    <tr style=\"text-align: right;\">\n",
       "      <th></th>\n",
       "      <th>setosa</th>\n",
       "      <th>versicolor</th>\n",
       "      <th>virginica</th>\n",
       "      <th>prediction</th>\n",
       "    </tr>\n",
       "  </thead>\n",
       "  <tbody>\n",
       "    <tr>\n",
       "      <th>0</th>\n",
       "      <td>2.791534</td>\n",
       "      <td>0.0</td>\n",
       "      <td>0.0</td>\n",
       "      <td>setosa</td>\n",
       "    </tr>\n",
       "    <tr>\n",
       "      <th>1</th>\n",
       "      <td>1.488164</td>\n",
       "      <td>0.0</td>\n",
       "      <td>0.0</td>\n",
       "      <td>setosa</td>\n",
       "    </tr>\n",
       "    <tr>\n",
       "      <th>2</th>\n",
       "      <td>1.163145</td>\n",
       "      <td>0.0</td>\n",
       "      <td>0.0</td>\n",
       "      <td>setosa</td>\n",
       "    </tr>\n",
       "    <tr>\n",
       "      <th>3</th>\n",
       "      <td>1.085765</td>\n",
       "      <td>0.0</td>\n",
       "      <td>0.0</td>\n",
       "      <td>setosa</td>\n",
       "    </tr>\n",
       "    <tr>\n",
       "      <th>4</th>\n",
       "      <td>2.656738</td>\n",
       "      <td>0.0</td>\n",
       "      <td>0.0</td>\n",
       "      <td>setosa</td>\n",
       "    </tr>\n",
       "    <tr>\n",
       "      <th>...</th>\n",
       "      <td>...</td>\n",
       "      <td>...</td>\n",
       "      <td>...</td>\n",
       "      <td>...</td>\n",
       "    </tr>\n",
       "    <tr>\n",
       "      <th>145</th>\n",
       "      <td>0.0</td>\n",
       "      <td>0.0</td>\n",
       "      <td>0.132245</td>\n",
       "      <td>virginica</td>\n",
       "    </tr>\n",
       "    <tr>\n",
       "      <th>146</th>\n",
       "      <td>0.0</td>\n",
       "      <td>0.001295</td>\n",
       "      <td>0.045437</td>\n",
       "      <td>virginica</td>\n",
       "    </tr>\n",
       "    <tr>\n",
       "      <th>147</th>\n",
       "      <td>0.0</td>\n",
       "      <td>0.000096</td>\n",
       "      <td>0.217838</td>\n",
       "      <td>virginica</td>\n",
       "    </tr>\n",
       "    <tr>\n",
       "      <th>148</th>\n",
       "      <td>0.0</td>\n",
       "      <td>0.0</td>\n",
       "      <td>0.055163</td>\n",
       "      <td>virginica</td>\n",
       "    </tr>\n",
       "    <tr>\n",
       "      <th>149</th>\n",
       "      <td>0.0</td>\n",
       "      <td>0.004895</td>\n",
       "      <td>0.076857</td>\n",
       "      <td>virginica</td>\n",
       "    </tr>\n",
       "  </tbody>\n",
       "</table>\n",
       "<p>150 rows × 4 columns</p>\n",
       "</div>"
      ],
      "text/plain": [
       "       setosa versicolor virginica prediction\n",
       "0    2.791534        0.0       0.0     setosa\n",
       "1    1.488164        0.0       0.0     setosa\n",
       "2    1.163145        0.0       0.0     setosa\n",
       "3    1.085765        0.0       0.0     setosa\n",
       "4    2.656738        0.0       0.0     setosa\n",
       "..        ...        ...       ...        ...\n",
       "145       0.0        0.0  0.132245  virginica\n",
       "146       0.0   0.001295  0.045437  virginica\n",
       "147       0.0   0.000096  0.217838  virginica\n",
       "148       0.0        0.0  0.055163  virginica\n",
       "149       0.0   0.004895  0.076857  virginica\n",
       "\n",
       "[150 rows x 4 columns]"
      ]
     },
     "execution_count": 7,
     "metadata": {},
     "output_type": "execute_result"
    }
   ],
   "source": [
    "prediction['prediction'] = [0]*iris.shape[0]\n",
    "for idx, r in prediction.iterrows():\n",
    "    i = 0 \n",
    "    for c in r[:-1]:\n",
    "        if max(r[:-1]) == c:\n",
    "            prediction.loc[idx, 'prediction'] = prediction.columns[i]\n",
    "        i+= 1\n",
    "prediction"
   ]
  },
  {
   "cell_type": "code",
   "execution_count": 8,
   "metadata": {},
   "outputs": [
    {
     "name": "stdout",
     "output_type": "stream",
     "text": [
      "Accuracy -> 96.000%\n"
     ]
    }
   ],
   "source": [
    "correct = 0\n",
    "for i in range(iris.shape[0]):\n",
    "    if prediction['prediction'][i] == iris['target'][i]:\n",
    "        correct += 1\n",
    "print(f'Accuracy -> {correct/iris.shape[0]:.3%}')"
   ]
  },
  {
   "cell_type": "code",
   "execution_count": 9,
   "metadata": {},
   "outputs": [
    {
     "name": "stdout",
     "output_type": "stream",
     "text": [
      "Accuracy of scikit-learn -> 96.000%\n"
     ]
    }
   ],
   "source": [
    "from sklearn.naive_bayes import GaussianNB\n",
    "from sklearn.metrics import accuracy_score\n",
    "clf = GaussianNB()\n",
    "clf.fit(iris.iloc[:,:-1], iris.iloc[:,-1])\n",
    "\n",
    "predictions = clf.predict(iris.iloc[:,:-1])\n",
    "print(f'Accuracy of scikit-learn -> {accuracy_score(iris.iloc[:,-1], predictions):.3%}')"
   ]
  },
  {
   "cell_type": "code",
   "execution_count": null,
   "metadata": {},
   "outputs": [],
   "source": []
  }
 ],
 "metadata": {
  "interpreter": {
   "hash": "44caa77d2201e732e3a9474a94bb94fa254042fa0e712bb8fba91174200786f0"
  },
  "kernelspec": {
   "display_name": "Python 3.9.6 64-bit",
   "name": "python3"
  },
  "language_info": {
   "codemirror_mode": {
    "name": "ipython",
    "version": 3
   },
   "file_extension": ".py",
   "mimetype": "text/x-python",
   "name": "python",
   "nbconvert_exporter": "python",
   "pygments_lexer": "ipython3",
   "version": "3.9.6"
  },
  "orig_nbformat": 4
 },
 "nbformat": 4,
 "nbformat_minor": 2
}
