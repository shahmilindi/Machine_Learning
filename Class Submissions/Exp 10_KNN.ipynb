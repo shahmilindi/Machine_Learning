{
 "cells": [
  {
   "cell_type": "markdown",
   "metadata": {},
   "source": [
    "# KNN from scratch\n",
    "# Milindi Shah\n",
    "# J057\n"
   ]
  },
  {
   "cell_type": "code",
   "execution_count": 1,
   "metadata": {},
   "outputs": [],
   "source": [
    "import numpy as np\n",
    "import pandas as pd \n",
    "from scipy.stats import mode\n",
    "from numpy.random import randint\n",
    "from sklearn.datasets import load_iris \n",
    "from sklearn.metrics import accuracy_score \n",
    "from sklearn.model_selection import train_test_split"
   ]
  },
  {
   "cell_type": "code",
   "execution_count": 2,
   "metadata": {},
   "outputs": [],
   "source": [
    "iris = load_iris()\n",
    "X = iris['data']\n",
    "y = iris['target']\n",
    "cols = iris['feature_names']"
   ]
  },
  {
   "cell_type": "code",
   "execution_count": 3,
   "metadata": {},
   "outputs": [
    {
     "name": "stdout",
     "output_type": "stream",
     "text": [
      "X_train -> (120, 4)\n",
      "y_train -> (120,)\n",
      "X_test -> (30, 4)\n",
      "y_test -> (30,)\n"
     ]
    }
   ],
   "source": [
    "X_train, X_test, y_train, y_test = train_test_split(X,y,test_size=0.2,random_state=42)\n",
    "print(f'X_train -> {X_train.shape}')\n",
    "print(f'y_train -> {y_train.shape}')\n",
    "print(f'X_test -> {X_test.shape}')\n",
    "print(f'y_test -> {y_test.shape}')"
   ]
  },
  {
   "cell_type": "code",
   "execution_count": 4,
   "metadata": {},
   "outputs": [],
   "source": [
    "def e_d(p1,p2):\n",
    "    return np.sqrt(np.sum((p1-p2)**2))"
   ]
  },
  {
   "cell_type": "code",
   "execution_count": 5,
   "metadata": {},
   "outputs": [],
   "source": [
    "def knn(x,y,inp,k):\n",
    "    labels = []\n",
    "    for i in inp:\n",
    "        dist = []\n",
    "        for j in range(len(x)):\n",
    "            d = e_d(np.array(x[j,:]),i)\n",
    "            dist.append(d)\n",
    "        dist = np.array(dist)\n",
    "        dist_new = np.argsort(dist)[:k]\n",
    "        l = y[dist_new]\n",
    "        lab = mode(l)\n",
    "        lab = lab.mode[0]\n",
    "        labels.append(lab)\n",
    "    return labels"
   ]
  },
  {
   "cell_type": "code",
   "execution_count": 6,
   "metadata": {},
   "outputs": [
    {
     "data": {
      "text/plain": [
       "KNeighborsClassifier()"
      ]
     },
     "execution_count": 6,
     "metadata": {},
     "output_type": "execute_result"
    }
   ],
   "source": [
    "from sklearn.neighbors import KNeighborsClassifier as KNN\n",
    "clf = KNN(n_neighbors=5)\n",
    "clf.fit(X_train, y_train)"
   ]
  },
  {
   "cell_type": "code",
   "execution_count": 7,
   "metadata": {},
   "outputs": [],
   "source": [
    "y_pred1 = knn(X_train, y_train, X_test, 5)\n",
    "y_pred2 = clf.predict(X_test)"
   ]
  },
  {
   "cell_type": "code",
   "execution_count": 8,
   "metadata": {},
   "outputs": [
    {
     "name": "stdout",
     "output_type": "stream",
     "text": [
      "Our Model -> 1.0\n",
      "Scikit-Learn model -> 1.0\n"
     ]
    }
   ],
   "source": [
    "print(f'Our Model -> {accuracy_score(y_test, y_pred1)}')\n",
    "print(f'Scikit-Learn model -> {accuracy_score(y_test, y_pred2)}')"
   ]
  }
 ],
 "metadata": {
  "interpreter": {
   "hash": "44caa77d2201e732e3a9474a94bb94fa254042fa0e712bb8fba91174200786f0"
  },
  "kernelspec": {
   "display_name": "Python 3.9.6 64-bit",
   "name": "python3"
  },
  "language_info": {
   "codemirror_mode": {
    "name": "ipython",
    "version": 3
   },
   "file_extension": ".py",
   "mimetype": "text/x-python",
   "name": "python",
   "nbconvert_exporter": "python",
   "pygments_lexer": "ipython3",
   "version": "3.9.6"
  },
  "orig_nbformat": 4
 },
 "nbformat": 4,
 "nbformat_minor": 2
}
